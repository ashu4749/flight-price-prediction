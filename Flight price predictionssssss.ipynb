{
 "cells": [
  {
   "cell_type": "markdown",
   "id": "75a35449",
   "metadata": {},
   "source": [
    "# Flight price prediction"
   ]
  },
  {
   "cell_type": "code",
   "execution_count": 1,
   "id": "d491a2a3",
   "metadata": {},
   "outputs": [],
   "source": [
    "import pandas as pd\n",
    "import numpy as np\n",
    "import seaborn as sns\n",
    "import matplotlib.pyplot as plt\n",
    "import sklearn\n",
    "from sklearn.linear_model import LinearRegression\n",
    "from sklearn.metrics import mean_squared_error, mean_absolute_error\n",
    "from sklearn.model_selection import train_test_split\n",
    "from sklearn.metrics import roc_auc_score\n",
    "import sklearn.metrics as metrics\n",
    "from sklearn.metrics import confusion_matrix,classification_report\n",
    "from scipy.stats import zscore\n",
    "import warnings\n",
    "warnings.filterwarnings('ignore')"
   ]
  },
  {
   "cell_type": "code",
   "execution_count": 2,
   "id": "f27c70b4",
   "metadata": {},
   "outputs": [],
   "source": [
    "df= pd.read_csv(r\"C:\\Users\\Ashwini\\Documents\\EasyMyTrip_Yatra_2021.csv\")"
   ]
  },
  {
   "cell_type": "code",
   "execution_count": 3,
   "id": "b0381a4b",
   "metadata": {},
   "outputs": [
    {
     "data": {
      "text/html": [
       "<div>\n",
       "<style scoped>\n",
       "    .dataframe tbody tr th:only-of-type {\n",
       "        vertical-align: middle;\n",
       "    }\n",
       "\n",
       "    .dataframe tbody tr th {\n",
       "        vertical-align: top;\n",
       "    }\n",
       "\n",
       "    .dataframe thead th {\n",
       "        text-align: right;\n",
       "    }\n",
       "</style>\n",
       "<table border=\"1\" class=\"dataframe\">\n",
       "  <thead>\n",
       "    <tr style=\"text-align: right;\">\n",
       "      <th></th>\n",
       "      <th>Date</th>\n",
       "      <th>Airline</th>\n",
       "      <th>Source</th>\n",
       "      <th>Destination</th>\n",
       "      <th>Dep_time</th>\n",
       "      <th>Arr_time</th>\n",
       "      <th>Durtion</th>\n",
       "      <th>Route</th>\n",
       "      <th>stop</th>\n",
       "      <th>price</th>\n",
       "    </tr>\n",
       "  </thead>\n",
       "  <tbody>\n",
       "    <tr>\n",
       "      <th>0</th>\n",
       "      <td>25-Oct</td>\n",
       "      <td>GO FIRST</td>\n",
       "      <td>Bangalore</td>\n",
       "      <td>Delhi</td>\n",
       "      <td>6:00</td>\n",
       "      <td>8:40</td>\n",
       "      <td>02h 40m</td>\n",
       "      <td>BLR---&gt;DEL</td>\n",
       "      <td>non-stop</td>\n",
       "      <td>7,487</td>\n",
       "    </tr>\n",
       "    <tr>\n",
       "      <th>1</th>\n",
       "      <td>25-Oct</td>\n",
       "      <td>GO FIRST</td>\n",
       "      <td>Bangalore</td>\n",
       "      <td>Delhi</td>\n",
       "      <td>21:15</td>\n",
       "      <td>23:55</td>\n",
       "      <td>02h 40m</td>\n",
       "      <td>BLR---&gt;DEL</td>\n",
       "      <td>non-stop</td>\n",
       "      <td>7,487</td>\n",
       "    </tr>\n",
       "    <tr>\n",
       "      <th>2</th>\n",
       "      <td>25-Oct</td>\n",
       "      <td>SpiceJet</td>\n",
       "      <td>Bangalore</td>\n",
       "      <td>Delhi</td>\n",
       "      <td>2:10</td>\n",
       "      <td>4:50</td>\n",
       "      <td>02h 40m</td>\n",
       "      <td>BLR---&gt;DEL</td>\n",
       "      <td>non-stop</td>\n",
       "      <td>7,488</td>\n",
       "    </tr>\n",
       "    <tr>\n",
       "      <th>3</th>\n",
       "      <td>25-Oct</td>\n",
       "      <td>Indigo</td>\n",
       "      <td>Bangalore</td>\n",
       "      <td>Delhi</td>\n",
       "      <td>12:55</td>\n",
       "      <td>15:40</td>\n",
       "      <td>02h 45m</td>\n",
       "      <td>BLR---&gt;DEL</td>\n",
       "      <td>non-stop</td>\n",
       "      <td>7,488</td>\n",
       "    </tr>\n",
       "    <tr>\n",
       "      <th>4</th>\n",
       "      <td>25-Oct</td>\n",
       "      <td>Indigo</td>\n",
       "      <td>Bangalore</td>\n",
       "      <td>Delhi</td>\n",
       "      <td>14:35</td>\n",
       "      <td>17:20</td>\n",
       "      <td>02h 45m</td>\n",
       "      <td>BLR---&gt;DEL</td>\n",
       "      <td>non-stop</td>\n",
       "      <td>7,488</td>\n",
       "    </tr>\n",
       "    <tr>\n",
       "      <th>...</th>\n",
       "      <td>...</td>\n",
       "      <td>...</td>\n",
       "      <td>...</td>\n",
       "      <td>...</td>\n",
       "      <td>...</td>\n",
       "      <td>...</td>\n",
       "      <td>...</td>\n",
       "      <td>...</td>\n",
       "      <td>...</td>\n",
       "      <td>...</td>\n",
       "    </tr>\n",
       "    <tr>\n",
       "      <th>7694</th>\n",
       "      <td>31-Oct-21</td>\n",
       "      <td>IndiGo</td>\n",
       "      <td>Chennai</td>\n",
       "      <td>Delhi</td>\n",
       "      <td>9:00</td>\n",
       "      <td>14:50</td>\n",
       "      <td>5:50</td>\n",
       "      <td>MAA--&gt;DEL</td>\n",
       "      <td>1-stop</td>\n",
       "      <td>21055</td>\n",
       "    </tr>\n",
       "    <tr>\n",
       "      <th>7695</th>\n",
       "      <td>31-Oct-21</td>\n",
       "      <td>Air India</td>\n",
       "      <td>Chennai</td>\n",
       "      <td>Delhi</td>\n",
       "      <td>6:20</td>\n",
       "      <td>12:15</td>\n",
       "      <td>5:55</td>\n",
       "      <td>MAA--&gt;DEL</td>\n",
       "      <td>1-stop</td>\n",
       "      <td>21213</td>\n",
       "    </tr>\n",
       "    <tr>\n",
       "      <th>7696</th>\n",
       "      <td>31-Oct-21</td>\n",
       "      <td>Vistara</td>\n",
       "      <td>Chennai</td>\n",
       "      <td>Delhi</td>\n",
       "      <td>7:00</td>\n",
       "      <td>16:45</td>\n",
       "      <td>9:45</td>\n",
       "      <td>MAA--&gt;DEL</td>\n",
       "      <td>2-stop</td>\n",
       "      <td>21318</td>\n",
       "    </tr>\n",
       "    <tr>\n",
       "      <th>7697</th>\n",
       "      <td>31-Oct-21</td>\n",
       "      <td>Vistara</td>\n",
       "      <td>Chennai</td>\n",
       "      <td>Delhi</td>\n",
       "      <td>7:00</td>\n",
       "      <td>16:30</td>\n",
       "      <td>9:30</td>\n",
       "      <td>MAA--&gt;DEL</td>\n",
       "      <td>2-stop</td>\n",
       "      <td>22368</td>\n",
       "    </tr>\n",
       "    <tr>\n",
       "      <th>7698</th>\n",
       "      <td>31-Oct-21</td>\n",
       "      <td>Vistara</td>\n",
       "      <td>Chennai</td>\n",
       "      <td>Delhi</td>\n",
       "      <td>7:00</td>\n",
       "      <td>17:05</td>\n",
       "      <td>10:05</td>\n",
       "      <td>MAA--&gt;DEL</td>\n",
       "      <td>2-stop</td>\n",
       "      <td>24941</td>\n",
       "    </tr>\n",
       "  </tbody>\n",
       "</table>\n",
       "<p>7699 rows × 10 columns</p>\n",
       "</div>"
      ],
      "text/plain": [
       "           Date    Airline     Source Destination Dep_time Arr_time  Durtion  \\\n",
       "0        25-Oct   GO FIRST  Bangalore       Delhi     6:00     8:40  02h 40m   \n",
       "1        25-Oct   GO FIRST  Bangalore       Delhi    21:15    23:55  02h 40m   \n",
       "2        25-Oct   SpiceJet  Bangalore       Delhi     2:10     4:50  02h 40m   \n",
       "3        25-Oct     Indigo  Bangalore       Delhi    12:55    15:40  02h 45m   \n",
       "4        25-Oct     Indigo  Bangalore       Delhi    14:35    17:20  02h 45m   \n",
       "...         ...        ...        ...         ...      ...      ...      ...   \n",
       "7694  31-Oct-21     IndiGo    Chennai       Delhi     9:00    14:50     5:50   \n",
       "7695  31-Oct-21  Air India    Chennai       Delhi     6:20    12:15     5:55   \n",
       "7696  31-Oct-21    Vistara    Chennai       Delhi     7:00    16:45     9:45   \n",
       "7697  31-Oct-21    Vistara    Chennai       Delhi     7:00    16:30     9:30   \n",
       "7698  31-Oct-21    Vistara    Chennai       Delhi     7:00    17:05    10:05   \n",
       "\n",
       "           Route      stop  price  \n",
       "0     BLR--->DEL  non-stop  7,487  \n",
       "1     BLR--->DEL  non-stop  7,487  \n",
       "2     BLR--->DEL  non-stop  7,488  \n",
       "3     BLR--->DEL  non-stop  7,488  \n",
       "4     BLR--->DEL  non-stop  7,488  \n",
       "...          ...       ...    ...  \n",
       "7694   MAA-->DEL    1-stop  21055  \n",
       "7695   MAA-->DEL    1-stop  21213  \n",
       "7696   MAA-->DEL    2-stop  21318  \n",
       "7697   MAA-->DEL    2-stop  22368  \n",
       "7698   MAA-->DEL    2-stop  24941  \n",
       "\n",
       "[7699 rows x 10 columns]"
      ]
     },
     "execution_count": 3,
     "metadata": {},
     "output_type": "execute_result"
    }
   ],
   "source": [
    "df"
   ]
  },
  {
   "cell_type": "code",
   "execution_count": 4,
   "id": "3ead6c66",
   "metadata": {},
   "outputs": [
    {
     "data": {
      "text/html": [
       "<div>\n",
       "<style scoped>\n",
       "    .dataframe tbody tr th:only-of-type {\n",
       "        vertical-align: middle;\n",
       "    }\n",
       "\n",
       "    .dataframe tbody tr th {\n",
       "        vertical-align: top;\n",
       "    }\n",
       "\n",
       "    .dataframe thead th {\n",
       "        text-align: right;\n",
       "    }\n",
       "</style>\n",
       "<table border=\"1\" class=\"dataframe\">\n",
       "  <thead>\n",
       "    <tr style=\"text-align: right;\">\n",
       "      <th></th>\n",
       "      <th>Date</th>\n",
       "      <th>Airline</th>\n",
       "      <th>Source</th>\n",
       "      <th>Destination</th>\n",
       "      <th>Dep_time</th>\n",
       "      <th>Arr_time</th>\n",
       "      <th>Durtion</th>\n",
       "      <th>Route</th>\n",
       "      <th>stop</th>\n",
       "      <th>price</th>\n",
       "    </tr>\n",
       "  </thead>\n",
       "  <tbody>\n",
       "    <tr>\n",
       "      <th>0</th>\n",
       "      <td>25-Oct</td>\n",
       "      <td>GO FIRST</td>\n",
       "      <td>Bangalore</td>\n",
       "      <td>Delhi</td>\n",
       "      <td>6:00</td>\n",
       "      <td>8:40</td>\n",
       "      <td>02h 40m</td>\n",
       "      <td>BLR---&gt;DEL</td>\n",
       "      <td>non-stop</td>\n",
       "      <td>7,487</td>\n",
       "    </tr>\n",
       "    <tr>\n",
       "      <th>1</th>\n",
       "      <td>25-Oct</td>\n",
       "      <td>GO FIRST</td>\n",
       "      <td>Bangalore</td>\n",
       "      <td>Delhi</td>\n",
       "      <td>21:15</td>\n",
       "      <td>23:55</td>\n",
       "      <td>02h 40m</td>\n",
       "      <td>BLR---&gt;DEL</td>\n",
       "      <td>non-stop</td>\n",
       "      <td>7,487</td>\n",
       "    </tr>\n",
       "    <tr>\n",
       "      <th>2</th>\n",
       "      <td>25-Oct</td>\n",
       "      <td>SpiceJet</td>\n",
       "      <td>Bangalore</td>\n",
       "      <td>Delhi</td>\n",
       "      <td>2:10</td>\n",
       "      <td>4:50</td>\n",
       "      <td>02h 40m</td>\n",
       "      <td>BLR---&gt;DEL</td>\n",
       "      <td>non-stop</td>\n",
       "      <td>7,488</td>\n",
       "    </tr>\n",
       "    <tr>\n",
       "      <th>3</th>\n",
       "      <td>25-Oct</td>\n",
       "      <td>Indigo</td>\n",
       "      <td>Bangalore</td>\n",
       "      <td>Delhi</td>\n",
       "      <td>12:55</td>\n",
       "      <td>15:40</td>\n",
       "      <td>02h 45m</td>\n",
       "      <td>BLR---&gt;DEL</td>\n",
       "      <td>non-stop</td>\n",
       "      <td>7,488</td>\n",
       "    </tr>\n",
       "    <tr>\n",
       "      <th>4</th>\n",
       "      <td>25-Oct</td>\n",
       "      <td>Indigo</td>\n",
       "      <td>Bangalore</td>\n",
       "      <td>Delhi</td>\n",
       "      <td>14:35</td>\n",
       "      <td>17:20</td>\n",
       "      <td>02h 45m</td>\n",
       "      <td>BLR---&gt;DEL</td>\n",
       "      <td>non-stop</td>\n",
       "      <td>7,488</td>\n",
       "    </tr>\n",
       "  </tbody>\n",
       "</table>\n",
       "</div>"
      ],
      "text/plain": [
       "     Date   Airline     Source Destination Dep_time Arr_time  Durtion  \\\n",
       "0  25-Oct  GO FIRST  Bangalore       Delhi     6:00     8:40  02h 40m   \n",
       "1  25-Oct  GO FIRST  Bangalore       Delhi    21:15    23:55  02h 40m   \n",
       "2  25-Oct  SpiceJet  Bangalore       Delhi     2:10     4:50  02h 40m   \n",
       "3  25-Oct    Indigo  Bangalore       Delhi    12:55    15:40  02h 45m   \n",
       "4  25-Oct    Indigo  Bangalore       Delhi    14:35    17:20  02h 45m   \n",
       "\n",
       "        Route      stop  price  \n",
       "0  BLR--->DEL  non-stop  7,487  \n",
       "1  BLR--->DEL  non-stop  7,487  \n",
       "2  BLR--->DEL  non-stop  7,488  \n",
       "3  BLR--->DEL  non-stop  7,488  \n",
       "4  BLR--->DEL  non-stop  7,488  "
      ]
     },
     "execution_count": 4,
     "metadata": {},
     "output_type": "execute_result"
    }
   ],
   "source": [
    "df.head()"
   ]
  },
  {
   "cell_type": "code",
   "execution_count": 5,
   "id": "3779e5ea",
   "metadata": {},
   "outputs": [
    {
     "data": {
      "text/plain": [
       "(7699, 10)"
      ]
     },
     "execution_count": 5,
     "metadata": {},
     "output_type": "execute_result"
    }
   ],
   "source": [
    "df.shape"
   ]
  },
  {
   "cell_type": "code",
   "execution_count": 6,
   "id": "19f235d0",
   "metadata": {},
   "outputs": [
    {
     "name": "stdout",
     "output_type": "stream",
     "text": [
      "<class 'pandas.core.frame.DataFrame'>\n",
      "RangeIndex: 7699 entries, 0 to 7698\n",
      "Data columns (total 10 columns):\n",
      " #   Column       Non-Null Count  Dtype \n",
      "---  ------       --------------  ----- \n",
      " 0   Date         7699 non-null   object\n",
      " 1   Airline      7699 non-null   object\n",
      " 2   Source       7699 non-null   object\n",
      " 3   Destination  7699 non-null   object\n",
      " 4   Dep_time     7699 non-null   object\n",
      " 5   Arr_time     7699 non-null   object\n",
      " 6   Durtion      7699 non-null   object\n",
      " 7   Route        7699 non-null   object\n",
      " 8   stop         7699 non-null   object\n",
      " 9   price        7699 non-null   object\n",
      "dtypes: object(10)\n",
      "memory usage: 601.6+ KB\n"
     ]
    }
   ],
   "source": [
    "df.info()"
   ]
  },
  {
   "cell_type": "markdown",
   "id": "fb612e56",
   "metadata": {},
   "source": [
    "# Data cleaning"
   ]
  },
  {
   "cell_type": "code",
   "execution_count": 8,
   "id": "a4f4ca7a",
   "metadata": {},
   "outputs": [
    {
     "data": {
      "text/plain": [
       "Date           0\n",
       "Airline        0\n",
       "Source         0\n",
       "Destination    0\n",
       "Dep_time       0\n",
       "Arr_time       0\n",
       "Durtion        0\n",
       "Route          0\n",
       "stop           0\n",
       "price          0\n",
       "dtype: int64"
      ]
     },
     "execution_count": 8,
     "metadata": {},
     "output_type": "execute_result"
    }
   ],
   "source": [
    "df.isnull().sum()"
   ]
  },
  {
   "cell_type": "markdown",
   "id": "f91d244b",
   "metadata": {},
   "source": [
    "* checking null values"
   ]
  },
  {
   "cell_type": "code",
   "execution_count": 9,
   "id": "2d1d453a",
   "metadata": {},
   "outputs": [],
   "source": [
    "df.dropna(inplace = True)"
   ]
  },
  {
   "cell_type": "code",
   "execution_count": 10,
   "id": "07104864",
   "metadata": {},
   "outputs": [],
   "source": [
    "\n",
    "df.dropna(subset=['price'],inplace = True)"
   ]
  },
  {
   "cell_type": "markdown",
   "id": "e435ebe3",
   "metadata": {},
   "source": [
    "* Droping the Unamed columns"
   ]
  },
  {
   "cell_type": "code",
   "execution_count": 11,
   "id": "3d19e41e",
   "metadata": {},
   "outputs": [
    {
     "data": {
      "text/plain": [
       "Date           0\n",
       "Airline        0\n",
       "Source         0\n",
       "Destination    0\n",
       "Dep_time       0\n",
       "Arr_time       0\n",
       "Durtion        0\n",
       "Route          0\n",
       "stop           0\n",
       "price          0\n",
       "dtype: int64"
      ]
     },
     "execution_count": 11,
     "metadata": {},
     "output_type": "execute_result"
    }
   ],
   "source": [
    "df.isnull().sum()"
   ]
  },
  {
   "cell_type": "code",
   "execution_count": 12,
   "id": "d39684da",
   "metadata": {},
   "outputs": [],
   "source": [
    "df[\"Dep_hour\"] = pd.to_datetime(df[\"Dep_time\"]).dt.hour\n",
    "df[\"Dep_min\"] = pd.to_datetime(df[\"Dep_time\"]).dt.minute\n",
    "df.drop([\"Dep_time\"], axis = 1, inplace = True)"
   ]
  },
  {
   "cell_type": "markdown",
   "id": "c1bdc580",
   "metadata": {},
   "source": [
    "* converting the objects to hours,minutes"
   ]
  },
  {
   "cell_type": "code",
   "execution_count": 13,
   "id": "55d3878a",
   "metadata": {},
   "outputs": [],
   "source": [
    "df[\"Arr_hour\"] = pd.to_datetime(df[\"Arr_time\"]).dt.hour\n",
    "df[\"Arr_min\"] = pd.to_datetime(df[\"Arr_time\"]).dt.minute\n",
    "df.drop([\"Arr_time\"], axis = 1, inplace = True)"
   ]
  },
  {
   "cell_type": "markdown",
   "id": "5f96fefc",
   "metadata": {},
   "source": [
    "* converting the objects to hours, minutes"
   ]
  },
  {
   "cell_type": "code",
   "execution_count": 14,
   "id": "0792e750",
   "metadata": {},
   "outputs": [
    {
     "data": {
      "text/html": [
       "<div>\n",
       "<style scoped>\n",
       "    .dataframe tbody tr th:only-of-type {\n",
       "        vertical-align: middle;\n",
       "    }\n",
       "\n",
       "    .dataframe tbody tr th {\n",
       "        vertical-align: top;\n",
       "    }\n",
       "\n",
       "    .dataframe thead th {\n",
       "        text-align: right;\n",
       "    }\n",
       "</style>\n",
       "<table border=\"1\" class=\"dataframe\">\n",
       "  <thead>\n",
       "    <tr style=\"text-align: right;\">\n",
       "      <th></th>\n",
       "      <th>Date</th>\n",
       "      <th>Airline</th>\n",
       "      <th>Source</th>\n",
       "      <th>Destination</th>\n",
       "      <th>Durtion</th>\n",
       "      <th>Route</th>\n",
       "      <th>stop</th>\n",
       "      <th>price</th>\n",
       "      <th>Dep_hour</th>\n",
       "      <th>Dep_min</th>\n",
       "      <th>Arr_hour</th>\n",
       "      <th>Arr_min</th>\n",
       "    </tr>\n",
       "  </thead>\n",
       "  <tbody>\n",
       "    <tr>\n",
       "      <th>0</th>\n",
       "      <td>25-Oct</td>\n",
       "      <td>GO FIRST</td>\n",
       "      <td>Bangalore</td>\n",
       "      <td>Delhi</td>\n",
       "      <td>02h 40m</td>\n",
       "      <td>BLR---&gt;DEL</td>\n",
       "      <td>non-stop</td>\n",
       "      <td>7,487</td>\n",
       "      <td>6</td>\n",
       "      <td>0</td>\n",
       "      <td>8</td>\n",
       "      <td>40</td>\n",
       "    </tr>\n",
       "    <tr>\n",
       "      <th>1</th>\n",
       "      <td>25-Oct</td>\n",
       "      <td>GO FIRST</td>\n",
       "      <td>Bangalore</td>\n",
       "      <td>Delhi</td>\n",
       "      <td>02h 40m</td>\n",
       "      <td>BLR---&gt;DEL</td>\n",
       "      <td>non-stop</td>\n",
       "      <td>7,487</td>\n",
       "      <td>21</td>\n",
       "      <td>15</td>\n",
       "      <td>23</td>\n",
       "      <td>55</td>\n",
       "    </tr>\n",
       "    <tr>\n",
       "      <th>2</th>\n",
       "      <td>25-Oct</td>\n",
       "      <td>SpiceJet</td>\n",
       "      <td>Bangalore</td>\n",
       "      <td>Delhi</td>\n",
       "      <td>02h 40m</td>\n",
       "      <td>BLR---&gt;DEL</td>\n",
       "      <td>non-stop</td>\n",
       "      <td>7,488</td>\n",
       "      <td>2</td>\n",
       "      <td>10</td>\n",
       "      <td>4</td>\n",
       "      <td>50</td>\n",
       "    </tr>\n",
       "    <tr>\n",
       "      <th>3</th>\n",
       "      <td>25-Oct</td>\n",
       "      <td>Indigo</td>\n",
       "      <td>Bangalore</td>\n",
       "      <td>Delhi</td>\n",
       "      <td>02h 45m</td>\n",
       "      <td>BLR---&gt;DEL</td>\n",
       "      <td>non-stop</td>\n",
       "      <td>7,488</td>\n",
       "      <td>12</td>\n",
       "      <td>55</td>\n",
       "      <td>15</td>\n",
       "      <td>40</td>\n",
       "    </tr>\n",
       "    <tr>\n",
       "      <th>4</th>\n",
       "      <td>25-Oct</td>\n",
       "      <td>Indigo</td>\n",
       "      <td>Bangalore</td>\n",
       "      <td>Delhi</td>\n",
       "      <td>02h 45m</td>\n",
       "      <td>BLR---&gt;DEL</td>\n",
       "      <td>non-stop</td>\n",
       "      <td>7,488</td>\n",
       "      <td>14</td>\n",
       "      <td>35</td>\n",
       "      <td>17</td>\n",
       "      <td>20</td>\n",
       "    </tr>\n",
       "  </tbody>\n",
       "</table>\n",
       "</div>"
      ],
      "text/plain": [
       "     Date   Airline     Source Destination  Durtion       Route      stop  \\\n",
       "0  25-Oct  GO FIRST  Bangalore       Delhi  02h 40m  BLR--->DEL  non-stop   \n",
       "1  25-Oct  GO FIRST  Bangalore       Delhi  02h 40m  BLR--->DEL  non-stop   \n",
       "2  25-Oct  SpiceJet  Bangalore       Delhi  02h 40m  BLR--->DEL  non-stop   \n",
       "3  25-Oct    Indigo  Bangalore       Delhi  02h 45m  BLR--->DEL  non-stop   \n",
       "4  25-Oct    Indigo  Bangalore       Delhi  02h 45m  BLR--->DEL  non-stop   \n",
       "\n",
       "   price  Dep_hour  Dep_min  Arr_hour  Arr_min  \n",
       "0  7,487         6        0         8       40  \n",
       "1  7,487        21       15        23       55  \n",
       "2  7,488         2       10         4       50  \n",
       "3  7,488        12       55        15       40  \n",
       "4  7,488        14       35        17       20  "
      ]
     },
     "execution_count": 14,
     "metadata": {},
     "output_type": "execute_result"
    }
   ],
   "source": [
    "df.head()"
   ]
  },
  {
   "cell_type": "code",
   "execution_count": 16,
   "id": "3fe4ca16",
   "metadata": {},
   "outputs": [],
   "source": [
    "df['Durtion']=df['Durtion'].str.replace(\"h\",':')\n",
    "df['Durtion']=df['Durtion'].str.replace(\"m\",'')\n",
    "df['Durtion']=df['Durtion'].str.replace(\" \",'')\n",
    "\n",
    "#spliting the hours and minutes \n",
    "df[\"Dur_hour\"]=df['Durtion'].str.split(':').str[0]\n",
    "df[\"Dur_min\"]=df['Durtion'].str.split(':').str[1]\n",
    "df.drop([\"Durtion\"], axis = 1, inplace = True)"
   ]
  },
  {
   "cell_type": "markdown",
   "id": "f13819a4",
   "metadata": {},
   "source": [
    "* replace the h,m from the duration "
   ]
  },
  {
   "cell_type": "code",
   "execution_count": 17,
   "id": "1cf6139f",
   "metadata": {},
   "outputs": [],
   "source": [
    "df['price']=df['price'].str.replace(\",\",\"\")"
   ]
  },
  {
   "cell_type": "markdown",
   "id": "d5fde4cd",
   "metadata": {},
   "source": [
    "* removing the comma symbole form price"
   ]
  },
  {
   "cell_type": "code",
   "execution_count": 18,
   "id": "58a7a141",
   "metadata": {},
   "outputs": [],
   "source": [
    "df['Day']=df['Date'].str.split(\"-\").str[0]\n",
    "df['Month']=df['Date'].str.split(\"-\").str[1]"
   ]
  },
  {
   "cell_type": "code",
   "execution_count": 19,
   "id": "31a0d76f",
   "metadata": {},
   "outputs": [],
   "source": [
    "df.drop([\"Date\"], axis = 1, inplace = True)"
   ]
  },
  {
   "cell_type": "code",
   "execution_count": 20,
   "id": "7bbcd409",
   "metadata": {},
   "outputs": [],
   "source": [
    "column=['Airline', 'Source', 'Destination', 'Day', 'Month','Route','Dep_hour','Dep_min', 'Dur_hour','Dur_min','Arr_hour','Arr_min','stop','price']\n",
    "  \n",
    "# create the new index for columns\n",
    "df=df.reindex(column, axis='columns')"
   ]
  },
  {
   "cell_type": "code",
   "execution_count": 21,
   "id": "8f7beecc",
   "metadata": {},
   "outputs": [
    {
     "data": {
      "text/html": [
       "<div>\n",
       "<style scoped>\n",
       "    .dataframe tbody tr th:only-of-type {\n",
       "        vertical-align: middle;\n",
       "    }\n",
       "\n",
       "    .dataframe tbody tr th {\n",
       "        vertical-align: top;\n",
       "    }\n",
       "\n",
       "    .dataframe thead th {\n",
       "        text-align: right;\n",
       "    }\n",
       "</style>\n",
       "<table border=\"1\" class=\"dataframe\">\n",
       "  <thead>\n",
       "    <tr style=\"text-align: right;\">\n",
       "      <th></th>\n",
       "      <th>Airline</th>\n",
       "      <th>Source</th>\n",
       "      <th>Destination</th>\n",
       "      <th>Day</th>\n",
       "      <th>Month</th>\n",
       "      <th>Route</th>\n",
       "      <th>Dep_hour</th>\n",
       "      <th>Dep_min</th>\n",
       "      <th>Dur_hour</th>\n",
       "      <th>Dur_min</th>\n",
       "      <th>Arr_hour</th>\n",
       "      <th>Arr_min</th>\n",
       "      <th>stop</th>\n",
       "      <th>price</th>\n",
       "    </tr>\n",
       "  </thead>\n",
       "  <tbody>\n",
       "    <tr>\n",
       "      <th>0</th>\n",
       "      <td>GO FIRST</td>\n",
       "      <td>Bangalore</td>\n",
       "      <td>Delhi</td>\n",
       "      <td>25</td>\n",
       "      <td>Oct</td>\n",
       "      <td>BLR---&gt;DEL</td>\n",
       "      <td>6</td>\n",
       "      <td>0</td>\n",
       "      <td>02</td>\n",
       "      <td>40</td>\n",
       "      <td>8</td>\n",
       "      <td>40</td>\n",
       "      <td>non-stop</td>\n",
       "      <td>7487</td>\n",
       "    </tr>\n",
       "    <tr>\n",
       "      <th>1</th>\n",
       "      <td>GO FIRST</td>\n",
       "      <td>Bangalore</td>\n",
       "      <td>Delhi</td>\n",
       "      <td>25</td>\n",
       "      <td>Oct</td>\n",
       "      <td>BLR---&gt;DEL</td>\n",
       "      <td>21</td>\n",
       "      <td>15</td>\n",
       "      <td>02</td>\n",
       "      <td>40</td>\n",
       "      <td>23</td>\n",
       "      <td>55</td>\n",
       "      <td>non-stop</td>\n",
       "      <td>7487</td>\n",
       "    </tr>\n",
       "    <tr>\n",
       "      <th>2</th>\n",
       "      <td>SpiceJet</td>\n",
       "      <td>Bangalore</td>\n",
       "      <td>Delhi</td>\n",
       "      <td>25</td>\n",
       "      <td>Oct</td>\n",
       "      <td>BLR---&gt;DEL</td>\n",
       "      <td>2</td>\n",
       "      <td>10</td>\n",
       "      <td>02</td>\n",
       "      <td>40</td>\n",
       "      <td>4</td>\n",
       "      <td>50</td>\n",
       "      <td>non-stop</td>\n",
       "      <td>7488</td>\n",
       "    </tr>\n",
       "    <tr>\n",
       "      <th>3</th>\n",
       "      <td>Indigo</td>\n",
       "      <td>Bangalore</td>\n",
       "      <td>Delhi</td>\n",
       "      <td>25</td>\n",
       "      <td>Oct</td>\n",
       "      <td>BLR---&gt;DEL</td>\n",
       "      <td>12</td>\n",
       "      <td>55</td>\n",
       "      <td>02</td>\n",
       "      <td>45</td>\n",
       "      <td>15</td>\n",
       "      <td>40</td>\n",
       "      <td>non-stop</td>\n",
       "      <td>7488</td>\n",
       "    </tr>\n",
       "    <tr>\n",
       "      <th>4</th>\n",
       "      <td>Indigo</td>\n",
       "      <td>Bangalore</td>\n",
       "      <td>Delhi</td>\n",
       "      <td>25</td>\n",
       "      <td>Oct</td>\n",
       "      <td>BLR---&gt;DEL</td>\n",
       "      <td>14</td>\n",
       "      <td>35</td>\n",
       "      <td>02</td>\n",
       "      <td>45</td>\n",
       "      <td>17</td>\n",
       "      <td>20</td>\n",
       "      <td>non-stop</td>\n",
       "      <td>7488</td>\n",
       "    </tr>\n",
       "    <tr>\n",
       "      <th>...</th>\n",
       "      <td>...</td>\n",
       "      <td>...</td>\n",
       "      <td>...</td>\n",
       "      <td>...</td>\n",
       "      <td>...</td>\n",
       "      <td>...</td>\n",
       "      <td>...</td>\n",
       "      <td>...</td>\n",
       "      <td>...</td>\n",
       "      <td>...</td>\n",
       "      <td>...</td>\n",
       "      <td>...</td>\n",
       "      <td>...</td>\n",
       "      <td>...</td>\n",
       "    </tr>\n",
       "    <tr>\n",
       "      <th>7694</th>\n",
       "      <td>IndiGo</td>\n",
       "      <td>Chennai</td>\n",
       "      <td>Delhi</td>\n",
       "      <td>31</td>\n",
       "      <td>Oct</td>\n",
       "      <td>MAA--&gt;DEL</td>\n",
       "      <td>9</td>\n",
       "      <td>0</td>\n",
       "      <td>5</td>\n",
       "      <td>50</td>\n",
       "      <td>14</td>\n",
       "      <td>50</td>\n",
       "      <td>1-stop</td>\n",
       "      <td>21055</td>\n",
       "    </tr>\n",
       "    <tr>\n",
       "      <th>7695</th>\n",
       "      <td>Air India</td>\n",
       "      <td>Chennai</td>\n",
       "      <td>Delhi</td>\n",
       "      <td>31</td>\n",
       "      <td>Oct</td>\n",
       "      <td>MAA--&gt;DEL</td>\n",
       "      <td>6</td>\n",
       "      <td>20</td>\n",
       "      <td>5</td>\n",
       "      <td>55</td>\n",
       "      <td>12</td>\n",
       "      <td>15</td>\n",
       "      <td>1-stop</td>\n",
       "      <td>21213</td>\n",
       "    </tr>\n",
       "    <tr>\n",
       "      <th>7696</th>\n",
       "      <td>Vistara</td>\n",
       "      <td>Chennai</td>\n",
       "      <td>Delhi</td>\n",
       "      <td>31</td>\n",
       "      <td>Oct</td>\n",
       "      <td>MAA--&gt;DEL</td>\n",
       "      <td>7</td>\n",
       "      <td>0</td>\n",
       "      <td>9</td>\n",
       "      <td>45</td>\n",
       "      <td>16</td>\n",
       "      <td>45</td>\n",
       "      <td>2-stop</td>\n",
       "      <td>21318</td>\n",
       "    </tr>\n",
       "    <tr>\n",
       "      <th>7697</th>\n",
       "      <td>Vistara</td>\n",
       "      <td>Chennai</td>\n",
       "      <td>Delhi</td>\n",
       "      <td>31</td>\n",
       "      <td>Oct</td>\n",
       "      <td>MAA--&gt;DEL</td>\n",
       "      <td>7</td>\n",
       "      <td>0</td>\n",
       "      <td>9</td>\n",
       "      <td>30</td>\n",
       "      <td>16</td>\n",
       "      <td>30</td>\n",
       "      <td>2-stop</td>\n",
       "      <td>22368</td>\n",
       "    </tr>\n",
       "    <tr>\n",
       "      <th>7698</th>\n",
       "      <td>Vistara</td>\n",
       "      <td>Chennai</td>\n",
       "      <td>Delhi</td>\n",
       "      <td>31</td>\n",
       "      <td>Oct</td>\n",
       "      <td>MAA--&gt;DEL</td>\n",
       "      <td>7</td>\n",
       "      <td>0</td>\n",
       "      <td>10</td>\n",
       "      <td>05</td>\n",
       "      <td>17</td>\n",
       "      <td>5</td>\n",
       "      <td>2-stop</td>\n",
       "      <td>24941</td>\n",
       "    </tr>\n",
       "  </tbody>\n",
       "</table>\n",
       "<p>7699 rows × 14 columns</p>\n",
       "</div>"
      ],
      "text/plain": [
       "        Airline     Source Destination Day Month       Route  Dep_hour  \\\n",
       "0      GO FIRST  Bangalore       Delhi  25   Oct  BLR--->DEL         6   \n",
       "1      GO FIRST  Bangalore       Delhi  25   Oct  BLR--->DEL        21   \n",
       "2      SpiceJet  Bangalore       Delhi  25   Oct  BLR--->DEL         2   \n",
       "3        Indigo  Bangalore       Delhi  25   Oct  BLR--->DEL        12   \n",
       "4        Indigo  Bangalore       Delhi  25   Oct  BLR--->DEL        14   \n",
       "...         ...        ...         ...  ..   ...         ...       ...   \n",
       "7694     IndiGo    Chennai       Delhi  31   Oct   MAA-->DEL         9   \n",
       "7695  Air India    Chennai       Delhi  31   Oct   MAA-->DEL         6   \n",
       "7696    Vistara    Chennai       Delhi  31   Oct   MAA-->DEL         7   \n",
       "7697    Vistara    Chennai       Delhi  31   Oct   MAA-->DEL         7   \n",
       "7698    Vistara    Chennai       Delhi  31   Oct   MAA-->DEL         7   \n",
       "\n",
       "      Dep_min Dur_hour Dur_min  Arr_hour  Arr_min      stop  price  \n",
       "0           0       02      40         8       40  non-stop   7487  \n",
       "1          15       02      40        23       55  non-stop   7487  \n",
       "2          10       02      40         4       50  non-stop   7488  \n",
       "3          55       02      45        15       40  non-stop   7488  \n",
       "4          35       02      45        17       20  non-stop   7488  \n",
       "...       ...      ...     ...       ...      ...       ...    ...  \n",
       "7694        0        5      50        14       50    1-stop  21055  \n",
       "7695       20        5      55        12       15    1-stop  21213  \n",
       "7696        0        9      45        16       45    2-stop  21318  \n",
       "7697        0        9      30        16       30    2-stop  22368  \n",
       "7698        0       10      05        17        5    2-stop  24941  \n",
       "\n",
       "[7699 rows x 14 columns]"
      ]
     },
     "execution_count": 21,
     "metadata": {},
     "output_type": "execute_result"
    }
   ],
   "source": [
    "df"
   ]
  },
  {
   "cell_type": "code",
   "execution_count": 22,
   "id": "5c5442fa",
   "metadata": {},
   "outputs": [
    {
     "data": {
      "text/html": [
       "<div>\n",
       "<style scoped>\n",
       "    .dataframe tbody tr th:only-of-type {\n",
       "        vertical-align: middle;\n",
       "    }\n",
       "\n",
       "    .dataframe tbody tr th {\n",
       "        vertical-align: top;\n",
       "    }\n",
       "\n",
       "    .dataframe thead th {\n",
       "        text-align: right;\n",
       "    }\n",
       "</style>\n",
       "<table border=\"1\" class=\"dataframe\">\n",
       "  <thead>\n",
       "    <tr style=\"text-align: right;\">\n",
       "      <th></th>\n",
       "      <th>Airline</th>\n",
       "      <th>Source</th>\n",
       "      <th>Destination</th>\n",
       "      <th>Day</th>\n",
       "      <th>Month</th>\n",
       "      <th>Route</th>\n",
       "      <th>Dep_hour</th>\n",
       "      <th>Dep_min</th>\n",
       "      <th>Dur_hour</th>\n",
       "      <th>Dur_min</th>\n",
       "      <th>Arr_hour</th>\n",
       "      <th>Arr_min</th>\n",
       "      <th>stop</th>\n",
       "      <th>price</th>\n",
       "    </tr>\n",
       "  </thead>\n",
       "  <tbody>\n",
       "    <tr>\n",
       "      <th>0</th>\n",
       "      <td>GO FIRST</td>\n",
       "      <td>Bangalore</td>\n",
       "      <td>Delhi</td>\n",
       "      <td>25</td>\n",
       "      <td>Oct</td>\n",
       "      <td>BLR---&gt;DEL</td>\n",
       "      <td>6</td>\n",
       "      <td>0</td>\n",
       "      <td>02</td>\n",
       "      <td>40</td>\n",
       "      <td>8</td>\n",
       "      <td>40</td>\n",
       "      <td>non-stop</td>\n",
       "      <td>7487</td>\n",
       "    </tr>\n",
       "    <tr>\n",
       "      <th>1</th>\n",
       "      <td>GO FIRST</td>\n",
       "      <td>Bangalore</td>\n",
       "      <td>Delhi</td>\n",
       "      <td>25</td>\n",
       "      <td>Oct</td>\n",
       "      <td>BLR---&gt;DEL</td>\n",
       "      <td>21</td>\n",
       "      <td>15</td>\n",
       "      <td>02</td>\n",
       "      <td>40</td>\n",
       "      <td>23</td>\n",
       "      <td>55</td>\n",
       "      <td>non-stop</td>\n",
       "      <td>7487</td>\n",
       "    </tr>\n",
       "    <tr>\n",
       "      <th>2</th>\n",
       "      <td>SpiceJet</td>\n",
       "      <td>Bangalore</td>\n",
       "      <td>Delhi</td>\n",
       "      <td>25</td>\n",
       "      <td>Oct</td>\n",
       "      <td>BLR---&gt;DEL</td>\n",
       "      <td>2</td>\n",
       "      <td>10</td>\n",
       "      <td>02</td>\n",
       "      <td>40</td>\n",
       "      <td>4</td>\n",
       "      <td>50</td>\n",
       "      <td>non-stop</td>\n",
       "      <td>7488</td>\n",
       "    </tr>\n",
       "    <tr>\n",
       "      <th>3</th>\n",
       "      <td>Indigo</td>\n",
       "      <td>Bangalore</td>\n",
       "      <td>Delhi</td>\n",
       "      <td>25</td>\n",
       "      <td>Oct</td>\n",
       "      <td>BLR---&gt;DEL</td>\n",
       "      <td>12</td>\n",
       "      <td>55</td>\n",
       "      <td>02</td>\n",
       "      <td>45</td>\n",
       "      <td>15</td>\n",
       "      <td>40</td>\n",
       "      <td>non-stop</td>\n",
       "      <td>7488</td>\n",
       "    </tr>\n",
       "    <tr>\n",
       "      <th>4</th>\n",
       "      <td>Indigo</td>\n",
       "      <td>Bangalore</td>\n",
       "      <td>Delhi</td>\n",
       "      <td>25</td>\n",
       "      <td>Oct</td>\n",
       "      <td>BLR---&gt;DEL</td>\n",
       "      <td>14</td>\n",
       "      <td>35</td>\n",
       "      <td>02</td>\n",
       "      <td>45</td>\n",
       "      <td>17</td>\n",
       "      <td>20</td>\n",
       "      <td>non-stop</td>\n",
       "      <td>7488</td>\n",
       "    </tr>\n",
       "  </tbody>\n",
       "</table>\n",
       "</div>"
      ],
      "text/plain": [
       "    Airline     Source Destination Day Month       Route  Dep_hour  Dep_min  \\\n",
       "0  GO FIRST  Bangalore       Delhi  25   Oct  BLR--->DEL         6        0   \n",
       "1  GO FIRST  Bangalore       Delhi  25   Oct  BLR--->DEL        21       15   \n",
       "2  SpiceJet  Bangalore       Delhi  25   Oct  BLR--->DEL         2       10   \n",
       "3    Indigo  Bangalore       Delhi  25   Oct  BLR--->DEL        12       55   \n",
       "4    Indigo  Bangalore       Delhi  25   Oct  BLR--->DEL        14       35   \n",
       "\n",
       "  Dur_hour Dur_min  Arr_hour  Arr_min      stop price  \n",
       "0       02      40         8       40  non-stop  7487  \n",
       "1       02      40        23       55  non-stop  7487  \n",
       "2       02      40         4       50  non-stop  7488  \n",
       "3       02      45        15       40  non-stop  7488  \n",
       "4       02      45        17       20  non-stop  7488  "
      ]
     },
     "execution_count": 22,
     "metadata": {},
     "output_type": "execute_result"
    }
   ],
   "source": [
    "df.head()"
   ]
  },
  {
   "cell_type": "code",
   "execution_count": 23,
   "id": "5d952e41",
   "metadata": {},
   "outputs": [],
   "source": [
    "df.to_csv(\"EasyMyTrip_yatra_Cleaned.csv\")"
   ]
  },
  {
   "cell_type": "code",
   "execution_count": 26,
   "id": "c2dd9d48",
   "metadata": {},
   "outputs": [],
   "source": [
    "\"\"\"\n",
    "df[\"Dep_hour\"] = pd.to_datetime(df[\"Dep_hour\"]).dt.hour\n",
    "df[\"Dep_min\"] = pd.to_datetime(df[\"Dep_min\"]).dt.minute\n",
    "df[\"Arr_hour\"] = pd.to_datetime(df[\"Arr_hour\"]).dt.hour\n",
    "df[\"Arr_min\"] = pd.to_datetime(df[\"Arr_min\"]).dt.minute\n",
    "df[\"Dur_hour\"] = pd.to_datetime(df[\"Dur_hour\"]).dt.hour\n",
    "df[\"Dur_min\"] = pd.to_datetime(df[\"Dur_min\"]).dt.minute\n",
    "\"\"\"\n",
    "\n",
    "#converting to date fomate \n",
    "\n",
    "df[\"Day\"] = pd.to_datetime(df.Day, format=\"%d\").dt.day\n",
    "df['Month'] =df['Month'].str.replace('Oct','10')\n",
    "df['Month'] =df['Month'].str.replace('Nov','11')\n",
    "df[\"Month\"] = pd.to_datetime(df[\"Month\"], format = \"%m\").dt.month"
   ]
  },
  {
   "cell_type": "code",
   "execution_count": 27,
   "id": "f1db2ba3",
   "metadata": {},
   "outputs": [],
   "source": [
    "df[\"Dep_hour\"]=pd.to_numeric(df[\"Dep_hour\"])\n",
    "df[\"Dur_min\"]=pd.to_numeric(df[\"Dur_min\"])\n",
    "df['price']=pd.to_numeric(df['price'])"
   ]
  },
  {
   "cell_type": "markdown",
   "id": "395edb38",
   "metadata": {},
   "source": [
    "* converting object to numeric data type "
   ]
  },
  {
   "cell_type": "code",
   "execution_count": 28,
   "id": "3c6edd3e",
   "metadata": {},
   "outputs": [
    {
     "data": {
      "text/html": [
       "<div>\n",
       "<style scoped>\n",
       "    .dataframe tbody tr th:only-of-type {\n",
       "        vertical-align: middle;\n",
       "    }\n",
       "\n",
       "    .dataframe tbody tr th {\n",
       "        vertical-align: top;\n",
       "    }\n",
       "\n",
       "    .dataframe thead th {\n",
       "        text-align: right;\n",
       "    }\n",
       "</style>\n",
       "<table border=\"1\" class=\"dataframe\">\n",
       "  <thead>\n",
       "    <tr style=\"text-align: right;\">\n",
       "      <th></th>\n",
       "      <th>Airline</th>\n",
       "      <th>Source</th>\n",
       "      <th>Destination</th>\n",
       "      <th>Day</th>\n",
       "      <th>Month</th>\n",
       "      <th>Route</th>\n",
       "      <th>Dep_hour</th>\n",
       "      <th>Dep_min</th>\n",
       "      <th>Dur_hour</th>\n",
       "      <th>Dur_min</th>\n",
       "      <th>Arr_hour</th>\n",
       "      <th>Arr_min</th>\n",
       "      <th>stop</th>\n",
       "      <th>price</th>\n",
       "    </tr>\n",
       "  </thead>\n",
       "  <tbody>\n",
       "    <tr>\n",
       "      <th>0</th>\n",
       "      <td>GO FIRST</td>\n",
       "      <td>Bangalore</td>\n",
       "      <td>Delhi</td>\n",
       "      <td>25</td>\n",
       "      <td>10</td>\n",
       "      <td>BLR---&gt;DEL</td>\n",
       "      <td>6</td>\n",
       "      <td>0</td>\n",
       "      <td>02</td>\n",
       "      <td>40</td>\n",
       "      <td>8</td>\n",
       "      <td>40</td>\n",
       "      <td>non-stop</td>\n",
       "      <td>7487</td>\n",
       "    </tr>\n",
       "    <tr>\n",
       "      <th>1</th>\n",
       "      <td>GO FIRST</td>\n",
       "      <td>Bangalore</td>\n",
       "      <td>Delhi</td>\n",
       "      <td>25</td>\n",
       "      <td>10</td>\n",
       "      <td>BLR---&gt;DEL</td>\n",
       "      <td>21</td>\n",
       "      <td>15</td>\n",
       "      <td>02</td>\n",
       "      <td>40</td>\n",
       "      <td>23</td>\n",
       "      <td>55</td>\n",
       "      <td>non-stop</td>\n",
       "      <td>7487</td>\n",
       "    </tr>\n",
       "    <tr>\n",
       "      <th>2</th>\n",
       "      <td>SpiceJet</td>\n",
       "      <td>Bangalore</td>\n",
       "      <td>Delhi</td>\n",
       "      <td>25</td>\n",
       "      <td>10</td>\n",
       "      <td>BLR---&gt;DEL</td>\n",
       "      <td>2</td>\n",
       "      <td>10</td>\n",
       "      <td>02</td>\n",
       "      <td>40</td>\n",
       "      <td>4</td>\n",
       "      <td>50</td>\n",
       "      <td>non-stop</td>\n",
       "      <td>7488</td>\n",
       "    </tr>\n",
       "    <tr>\n",
       "      <th>3</th>\n",
       "      <td>Indigo</td>\n",
       "      <td>Bangalore</td>\n",
       "      <td>Delhi</td>\n",
       "      <td>25</td>\n",
       "      <td>10</td>\n",
       "      <td>BLR---&gt;DEL</td>\n",
       "      <td>12</td>\n",
       "      <td>55</td>\n",
       "      <td>02</td>\n",
       "      <td>45</td>\n",
       "      <td>15</td>\n",
       "      <td>40</td>\n",
       "      <td>non-stop</td>\n",
       "      <td>7488</td>\n",
       "    </tr>\n",
       "    <tr>\n",
       "      <th>4</th>\n",
       "      <td>Indigo</td>\n",
       "      <td>Bangalore</td>\n",
       "      <td>Delhi</td>\n",
       "      <td>25</td>\n",
       "      <td>10</td>\n",
       "      <td>BLR---&gt;DEL</td>\n",
       "      <td>14</td>\n",
       "      <td>35</td>\n",
       "      <td>02</td>\n",
       "      <td>45</td>\n",
       "      <td>17</td>\n",
       "      <td>20</td>\n",
       "      <td>non-stop</td>\n",
       "      <td>7488</td>\n",
       "    </tr>\n",
       "    <tr>\n",
       "      <th>...</th>\n",
       "      <td>...</td>\n",
       "      <td>...</td>\n",
       "      <td>...</td>\n",
       "      <td>...</td>\n",
       "      <td>...</td>\n",
       "      <td>...</td>\n",
       "      <td>...</td>\n",
       "      <td>...</td>\n",
       "      <td>...</td>\n",
       "      <td>...</td>\n",
       "      <td>...</td>\n",
       "      <td>...</td>\n",
       "      <td>...</td>\n",
       "      <td>...</td>\n",
       "    </tr>\n",
       "    <tr>\n",
       "      <th>7694</th>\n",
       "      <td>IndiGo</td>\n",
       "      <td>Chennai</td>\n",
       "      <td>Delhi</td>\n",
       "      <td>31</td>\n",
       "      <td>10</td>\n",
       "      <td>MAA--&gt;DEL</td>\n",
       "      <td>9</td>\n",
       "      <td>0</td>\n",
       "      <td>5</td>\n",
       "      <td>50</td>\n",
       "      <td>14</td>\n",
       "      <td>50</td>\n",
       "      <td>1-stop</td>\n",
       "      <td>21055</td>\n",
       "    </tr>\n",
       "    <tr>\n",
       "      <th>7695</th>\n",
       "      <td>Air India</td>\n",
       "      <td>Chennai</td>\n",
       "      <td>Delhi</td>\n",
       "      <td>31</td>\n",
       "      <td>10</td>\n",
       "      <td>MAA--&gt;DEL</td>\n",
       "      <td>6</td>\n",
       "      <td>20</td>\n",
       "      <td>5</td>\n",
       "      <td>55</td>\n",
       "      <td>12</td>\n",
       "      <td>15</td>\n",
       "      <td>1-stop</td>\n",
       "      <td>21213</td>\n",
       "    </tr>\n",
       "    <tr>\n",
       "      <th>7696</th>\n",
       "      <td>Vistara</td>\n",
       "      <td>Chennai</td>\n",
       "      <td>Delhi</td>\n",
       "      <td>31</td>\n",
       "      <td>10</td>\n",
       "      <td>MAA--&gt;DEL</td>\n",
       "      <td>7</td>\n",
       "      <td>0</td>\n",
       "      <td>9</td>\n",
       "      <td>45</td>\n",
       "      <td>16</td>\n",
       "      <td>45</td>\n",
       "      <td>2-stop</td>\n",
       "      <td>21318</td>\n",
       "    </tr>\n",
       "    <tr>\n",
       "      <th>7697</th>\n",
       "      <td>Vistara</td>\n",
       "      <td>Chennai</td>\n",
       "      <td>Delhi</td>\n",
       "      <td>31</td>\n",
       "      <td>10</td>\n",
       "      <td>MAA--&gt;DEL</td>\n",
       "      <td>7</td>\n",
       "      <td>0</td>\n",
       "      <td>9</td>\n",
       "      <td>30</td>\n",
       "      <td>16</td>\n",
       "      <td>30</td>\n",
       "      <td>2-stop</td>\n",
       "      <td>22368</td>\n",
       "    </tr>\n",
       "    <tr>\n",
       "      <th>7698</th>\n",
       "      <td>Vistara</td>\n",
       "      <td>Chennai</td>\n",
       "      <td>Delhi</td>\n",
       "      <td>31</td>\n",
       "      <td>10</td>\n",
       "      <td>MAA--&gt;DEL</td>\n",
       "      <td>7</td>\n",
       "      <td>0</td>\n",
       "      <td>10</td>\n",
       "      <td>5</td>\n",
       "      <td>17</td>\n",
       "      <td>5</td>\n",
       "      <td>2-stop</td>\n",
       "      <td>24941</td>\n",
       "    </tr>\n",
       "  </tbody>\n",
       "</table>\n",
       "<p>7699 rows × 14 columns</p>\n",
       "</div>"
      ],
      "text/plain": [
       "        Airline     Source Destination  Day  Month       Route  Dep_hour  \\\n",
       "0      GO FIRST  Bangalore       Delhi   25     10  BLR--->DEL         6   \n",
       "1      GO FIRST  Bangalore       Delhi   25     10  BLR--->DEL        21   \n",
       "2      SpiceJet  Bangalore       Delhi   25     10  BLR--->DEL         2   \n",
       "3        Indigo  Bangalore       Delhi   25     10  BLR--->DEL        12   \n",
       "4        Indigo  Bangalore       Delhi   25     10  BLR--->DEL        14   \n",
       "...         ...        ...         ...  ...    ...         ...       ...   \n",
       "7694     IndiGo    Chennai       Delhi   31     10   MAA-->DEL         9   \n",
       "7695  Air India    Chennai       Delhi   31     10   MAA-->DEL         6   \n",
       "7696    Vistara    Chennai       Delhi   31     10   MAA-->DEL         7   \n",
       "7697    Vistara    Chennai       Delhi   31     10   MAA-->DEL         7   \n",
       "7698    Vistara    Chennai       Delhi   31     10   MAA-->DEL         7   \n",
       "\n",
       "      Dep_min Dur_hour  Dur_min  Arr_hour  Arr_min      stop  price  \n",
       "0           0       02       40         8       40  non-stop   7487  \n",
       "1          15       02       40        23       55  non-stop   7487  \n",
       "2          10       02       40         4       50  non-stop   7488  \n",
       "3          55       02       45        15       40  non-stop   7488  \n",
       "4          35       02       45        17       20  non-stop   7488  \n",
       "...       ...      ...      ...       ...      ...       ...    ...  \n",
       "7694        0        5       50        14       50    1-stop  21055  \n",
       "7695       20        5       55        12       15    1-stop  21213  \n",
       "7696        0        9       45        16       45    2-stop  21318  \n",
       "7697        0        9       30        16       30    2-stop  22368  \n",
       "7698        0       10        5        17        5    2-stop  24941  \n",
       "\n",
       "[7699 rows x 14 columns]"
      ]
     },
     "execution_count": 28,
     "metadata": {},
     "output_type": "execute_result"
    }
   ],
   "source": [
    "df"
   ]
  },
  {
   "cell_type": "code",
   "execution_count": 29,
   "id": "b921ec16",
   "metadata": {},
   "outputs": [
    {
     "data": {
      "text/html": [
       "<div>\n",
       "<style scoped>\n",
       "    .dataframe tbody tr th:only-of-type {\n",
       "        vertical-align: middle;\n",
       "    }\n",
       "\n",
       "    .dataframe tbody tr th {\n",
       "        vertical-align: top;\n",
       "    }\n",
       "\n",
       "    .dataframe thead th {\n",
       "        text-align: right;\n",
       "    }\n",
       "</style>\n",
       "<table border=\"1\" class=\"dataframe\">\n",
       "  <thead>\n",
       "    <tr style=\"text-align: right;\">\n",
       "      <th></th>\n",
       "      <th>Airline</th>\n",
       "      <th>Source</th>\n",
       "      <th>Destination</th>\n",
       "      <th>Day</th>\n",
       "      <th>Month</th>\n",
       "      <th>Route</th>\n",
       "      <th>Dep_hour</th>\n",
       "      <th>Dep_min</th>\n",
       "      <th>Dur_hour</th>\n",
       "      <th>Dur_min</th>\n",
       "      <th>Arr_hour</th>\n",
       "      <th>Arr_min</th>\n",
       "      <th>stop</th>\n",
       "      <th>price</th>\n",
       "    </tr>\n",
       "  </thead>\n",
       "  <tbody>\n",
       "    <tr>\n",
       "      <th>0</th>\n",
       "      <td>GO FIRST</td>\n",
       "      <td>Bangalore</td>\n",
       "      <td>Delhi</td>\n",
       "      <td>25</td>\n",
       "      <td>10</td>\n",
       "      <td>BLR---&gt;DEL</td>\n",
       "      <td>6</td>\n",
       "      <td>0</td>\n",
       "      <td>02</td>\n",
       "      <td>40</td>\n",
       "      <td>8</td>\n",
       "      <td>40</td>\n",
       "      <td>non-stop</td>\n",
       "      <td>7487</td>\n",
       "    </tr>\n",
       "    <tr>\n",
       "      <th>1</th>\n",
       "      <td>GO FIRST</td>\n",
       "      <td>Bangalore</td>\n",
       "      <td>Delhi</td>\n",
       "      <td>25</td>\n",
       "      <td>10</td>\n",
       "      <td>BLR---&gt;DEL</td>\n",
       "      <td>21</td>\n",
       "      <td>15</td>\n",
       "      <td>02</td>\n",
       "      <td>40</td>\n",
       "      <td>23</td>\n",
       "      <td>55</td>\n",
       "      <td>non-stop</td>\n",
       "      <td>7487</td>\n",
       "    </tr>\n",
       "    <tr>\n",
       "      <th>2</th>\n",
       "      <td>SpiceJet</td>\n",
       "      <td>Bangalore</td>\n",
       "      <td>Delhi</td>\n",
       "      <td>25</td>\n",
       "      <td>10</td>\n",
       "      <td>BLR---&gt;DEL</td>\n",
       "      <td>2</td>\n",
       "      <td>10</td>\n",
       "      <td>02</td>\n",
       "      <td>40</td>\n",
       "      <td>4</td>\n",
       "      <td>50</td>\n",
       "      <td>non-stop</td>\n",
       "      <td>7488</td>\n",
       "    </tr>\n",
       "    <tr>\n",
       "      <th>3</th>\n",
       "      <td>Indigo</td>\n",
       "      <td>Bangalore</td>\n",
       "      <td>Delhi</td>\n",
       "      <td>25</td>\n",
       "      <td>10</td>\n",
       "      <td>BLR---&gt;DEL</td>\n",
       "      <td>12</td>\n",
       "      <td>55</td>\n",
       "      <td>02</td>\n",
       "      <td>45</td>\n",
       "      <td>15</td>\n",
       "      <td>40</td>\n",
       "      <td>non-stop</td>\n",
       "      <td>7488</td>\n",
       "    </tr>\n",
       "    <tr>\n",
       "      <th>4</th>\n",
       "      <td>Indigo</td>\n",
       "      <td>Bangalore</td>\n",
       "      <td>Delhi</td>\n",
       "      <td>25</td>\n",
       "      <td>10</td>\n",
       "      <td>BLR---&gt;DEL</td>\n",
       "      <td>14</td>\n",
       "      <td>35</td>\n",
       "      <td>02</td>\n",
       "      <td>45</td>\n",
       "      <td>17</td>\n",
       "      <td>20</td>\n",
       "      <td>non-stop</td>\n",
       "      <td>7488</td>\n",
       "    </tr>\n",
       "  </tbody>\n",
       "</table>\n",
       "</div>"
      ],
      "text/plain": [
       "    Airline     Source Destination  Day  Month       Route  Dep_hour  Dep_min  \\\n",
       "0  GO FIRST  Bangalore       Delhi   25     10  BLR--->DEL         6        0   \n",
       "1  GO FIRST  Bangalore       Delhi   25     10  BLR--->DEL        21       15   \n",
       "2  SpiceJet  Bangalore       Delhi   25     10  BLR--->DEL         2       10   \n",
       "3    Indigo  Bangalore       Delhi   25     10  BLR--->DEL        12       55   \n",
       "4    Indigo  Bangalore       Delhi   25     10  BLR--->DEL        14       35   \n",
       "\n",
       "  Dur_hour  Dur_min  Arr_hour  Arr_min      stop  price  \n",
       "0       02       40         8       40  non-stop   7487  \n",
       "1       02       40        23       55  non-stop   7487  \n",
       "2       02       40         4       50  non-stop   7488  \n",
       "3       02       45        15       40  non-stop   7488  \n",
       "4       02       45        17       20  non-stop   7488  "
      ]
     },
     "execution_count": 29,
     "metadata": {},
     "output_type": "execute_result"
    }
   ],
   "source": [
    "df.head()"
   ]
  },
  {
   "cell_type": "markdown",
   "id": "97a3353f",
   "metadata": {},
   "source": [
    "# Exploratory data Analysis"
   ]
  },
  {
   "cell_type": "markdown",
   "id": "28299018",
   "metadata": {},
   "source": [
    "# Univariant Analysis"
   ]
  },
  {
   "cell_type": "code",
   "execution_count": 30,
   "id": "1c1fc911",
   "metadata": {},
   "outputs": [
    {
     "name": "stdout",
     "output_type": "stream",
     "text": [
      "Vistara      1986\n",
      "Indigo       1234\n",
      "Air India    1212\n",
      "GO FIRST     1014\n",
      "AirAsia       843\n",
      "IndiGo        602\n",
      "SpiceJet      519\n",
      "Go First      236\n",
      "Air Asia       53\n",
      "Name: Airline, dtype: int64\n"
     ]
    },
    {
     "data": {
      "image/png": "[encoded data removed]",
      "text/plain": [
       "<Figure size 720x360 with 1 Axes>"
      ]
     },
     "metadata": {
      "needs_background": "light"
     },
     "output_type": "display_data"
    }
   ],
   "source": [
    "fig=plt.figure(figsize=(10,5))\n",
    "sns.countplot(df['Airline'])\n",
    "print(df['Airline'].value_counts())\n",
    "plt.show()"
   ]
  },
  {
   "cell_type": "markdown",
   "id": "ab1a3ea9",
   "metadata": {},
   "source": [
    "* Descrpition: indigo Have highest number of flights in demostic"
   ]
  },
  {
   "cell_type": "code",
   "execution_count": 31,
   "id": "82806624",
   "metadata": {},
   "outputs": [
    {
     "data": {
      "image/png": "[encoded data removed]",
      "text/plain": [
       "<Figure size 360x360 with 1 Axes>"
      ]
     },
     "metadata": {
      "needs_background": "light"
     },
     "output_type": "display_data"
    }
   ],
   "source": [
    "fig=plt.figure(figsize=(5,5))\n",
    "sns.countplot(df['Source'])\n",
    "plt.show()"
   ]
  },
  {
   "cell_type": "code",
   "execution_count": 32,
   "id": "d9e59bbe",
   "metadata": {},
   "outputs": [
    {
     "name": "stdout",
     "output_type": "stream",
     "text": [
      "Delhi     7369\n",
      "Mumbai     330\n",
      "Name: Destination, dtype: int64\n"
     ]
    },
    {
     "data": {
      "image/png": "[encoded data removed]",
      "text/plain": [
       "<Figure size 216x216 with 1 Axes>"
      ]
     },
     "metadata": {
      "needs_background": "light"
     },
     "output_type": "display_data"
    }
   ],
   "source": [
    "fig=plt.figure(figsize=(3,3))\n",
    "sns.countplot(df['Destination'])\n",
    "print(df['Destination'].value_counts())\n",
    "plt.show()"
   ]
  },
  {
   "cell_type": "code",
   "execution_count": 33,
   "id": "5add223c",
   "metadata": {},
   "outputs": [
    {
     "name": "stdout",
     "output_type": "stream",
     "text": [
      "23    383\n",
      "22    313\n",
      "21    304\n",
      "20    303\n",
      "17    302\n",
      "16    293\n",
      "18    292\n",
      "25    292\n",
      "19    287\n",
      "28    284\n",
      "1     284\n",
      "27    271\n",
      "24    269\n",
      "2     268\n",
      "31    261\n",
      "26    260\n",
      "29    257\n",
      "30    245\n",
      "15    211\n",
      "9     206\n",
      "8     205\n",
      "14    196\n",
      "5     196\n",
      "13    195\n",
      "11    194\n",
      "12    194\n",
      "10    193\n",
      "7     189\n",
      "6     188\n",
      "3     184\n",
      "4     180\n",
      "Name: Day, dtype: int64\n"
     ]
    },
    {
     "data": {
      "image/png": "[encoded data removed]",
      "text/plain": [
       "<Figure size 720x360 with 1 Axes>"
      ]
     },
     "metadata": {
      "needs_background": "light"
     },
     "output_type": "display_data"
    }
   ],
   "source": [
    "fig=plt.figure(figsize=(10,5))\n",
    "sns.countplot(df['Day'])\n",
    "print(df['Day'].value_counts())\n",
    "plt.show()"
   ]
  },
  {
   "cell_type": "markdown",
   "id": "058b3bcf",
   "metadata": {},
   "source": [
    "* number of flights from bangalore to delhi"
   ]
  },
  {
   "cell_type": "code",
   "execution_count": 35,
   "id": "b7e96e59",
   "metadata": {},
   "outputs": [
    {
     "name": "stdout",
     "output_type": "stream",
     "text": [
      "11    5128\n",
      "10    2571\n",
      "Name: Month, dtype: int64\n"
     ]
    },
    {
     "data": {
      "image/png": "[encoded data removed]",
      "text/plain": [
       "<Figure size 144x144 with 1 Axes>"
      ]
     },
     "metadata": {
      "needs_background": "light"
     },
     "output_type": "display_data"
    }
   ],
   "source": [
    "fig=plt.figure(figsize=(2,2))\n",
    "sns.countplot(df['Month'])\n",
    "print(df['Month'].value_counts())\n",
    "plt.show()"
   ]
  },
  {
   "cell_type": "code",
   "execution_count": 36,
   "id": "c362d308",
   "metadata": {},
   "outputs": [
    {
     "name": "stdout",
     "output_type": "stream",
     "text": [
      "['BLR--->DEL' 'BLR--->BOM-->DEL' 'BLR--->GOI-->DEL' 'BLR--->CCU-->DEL'\n",
      " 'BLR--->COK-->DEL' 'BLR--->IXR-->DEL' 'BLR--->IXB-->DEL'\n",
      " 'BLR--->GAU-->DEL' 'BLR--->HYD-->DEL' 'BLR--->LKO-->DEL'\n",
      " 'BLR--->AMD-->DEL' 'BLR--->VNS-->DEL' 'BLR--->NAG-->DEL'\n",
      " 'BLR--->BDQ-->DEL' 'BLR--->JAI-->DEL' 'BLR--->MAA-->DEL'\n",
      " 'BLR--->UDR-->DEL' 'BLR--->STV-->DEL' 'BLR--->SAG-->DEL'\n",
      " 'BLR--->JLR-->DEL' 'BLR--->BBI-->DEL' 'BLR--->PAT-->DEL'\n",
      " 'BLR--->IXC-->DEL' 'BLR--->PNQ-->DEL' 'BLR--->VTZ-->DEL'\n",
      " 'BLR--->BHO-->DEL' 'BLR--->TRV-->DEL' 'BLR-->DEL' 'DEL-->BOM' 'MAA-->DEL']\n"
     ]
    }
   ],
   "source": [
    "#flight routes\n",
    "print(df['Route'].unique())"
   ]
  },
  {
   "cell_type": "code",
   "execution_count": 37,
   "id": "1fbfde9d",
   "metadata": {},
   "outputs": [
    {
     "name": "stdout",
     "output_type": "stream",
     "text": [
      "1-stop      6209\n",
      "non-stop    1355\n",
      "2-stop       123\n",
      "3-stop        12\n",
      "Name: stop, dtype: int64\n"
     ]
    },
    {
     "data": {
      "image/png": "[encoded data removed]",
      "text/plain": [
       "<Figure size 360x216 with 1 Axes>"
      ]
     },
     "metadata": {
      "needs_background": "light"
     },
     "output_type": "display_data"
    }
   ],
   "source": [
    "fig=plt.figure(figsize=(5,3))\n",
    "sns.countplot(df['stop'])\n",
    "print(df['stop'].value_counts())\n",
    "plt.show()"
   ]
  },
  {
   "cell_type": "markdown",
   "id": "bb4ccbdb",
   "metadata": {},
   "source": [
    "# Multivrient analysis"
   ]
  },
  {
   "cell_type": "code",
   "execution_count": 38,
   "id": "020dad19",
   "metadata": {},
   "outputs": [
    {
     "data": {
      "image/png": "[encoded data removed]",
      "text/plain": [
       "<Figure size 1080x360 with 1 Axes>"
      ]
     },
     "metadata": {
      "needs_background": "light"
     },
     "output_type": "display_data"
    }
   ],
   "source": [
    "fig=plt.figure(figsize=(15,5))\n",
    "sns.countplot(x='Airline',hue='Route',  data=df)\n",
    "plt.show()"
   ]
  },
  {
   "cell_type": "code",
   "execution_count": 39,
   "id": "be017971",
   "metadata": {},
   "outputs": [
    {
     "data": {
      "text/plain": [
       "Day\n",
       "1     7350\n",
       "2     6050\n",
       "3     7485\n",
       "4     6186\n",
       "5     7485\n",
       "6     7485\n",
       "7     7485\n",
       "8     7404\n",
       "9     6186\n",
       "10    7485\n",
       "11    7485\n",
       "12    7485\n",
       "13    7485\n",
       "14    7485\n",
       "15    7485\n",
       "16    6186\n",
       "17    2270\n",
       "18    2270\n",
       "19    3916\n",
       "20    3916\n",
       "21    3916\n",
       "22    3916\n",
       "23    3861\n",
       "24    3916\n",
       "25    3861\n",
       "26    7352\n",
       "27    7352\n",
       "28    7352\n",
       "29    7352\n",
       "30    7352\n",
       "31    7350\n",
       "Name: price, dtype: int64"
      ]
     },
     "execution_count": 39,
     "metadata": {},
     "output_type": "execute_result"
    }
   ],
   "source": [
    "df.groupby(df['Day'])['price'].min()"
   ]
  },
  {
   "cell_type": "markdown",
   "id": "a03cadab",
   "metadata": {},
   "source": [
    "* Minmum price of the flight of that day"
   ]
  },
  {
   "cell_type": "code",
   "execution_count": 40,
   "id": "108b4c84",
   "metadata": {},
   "outputs": [
    {
     "data": {
      "text/plain": [
       "Source     Destination\n",
       "Bangalore  Delhi          3861\n",
       "Chennai    Delhi          2270\n",
       "New Delhi  Mumbai         5953\n",
       "bangalore  Delhi          5953\n",
       "Name: price, dtype: int64"
      ]
     },
     "execution_count": 40,
     "metadata": {},
     "output_type": "execute_result"
    }
   ],
   "source": [
    "df.groupby([\"Source\", \"Destination\"])[\"price\"].min()"
   ]
  },
  {
   "cell_type": "markdown",
   "id": "dc81c5d3",
   "metadata": {},
   "source": [
    "* Minimum Airline fare "
   ]
  },
  {
   "cell_type": "code",
   "execution_count": 41,
   "id": "9bba33d7",
   "metadata": {},
   "outputs": [
    {
     "data": {
      "text/plain": [
       "Source     Destination  Day  Month\n",
       "Bangalore  Delhi        1    11       7485\n",
       "                        2    11       7485\n",
       "                        3    11       7485\n",
       "                        4    11       6186\n",
       "                        5    11       7485\n",
       "                        6    11       7485\n",
       "                        7    11       7485\n",
       "                        8    11       7404\n",
       "                        9    11       6186\n",
       "                        10   11       7485\n",
       "                        11   11       7485\n",
       "                        12   11       7485\n",
       "                        13   11       7485\n",
       "                        14   11       7485\n",
       "                        15   11       7485\n",
       "                        16   11       6186\n",
       "                        17   11       7485\n",
       "                        18   11       4744\n",
       "                        19   11       3916\n",
       "                        20   11       3916\n",
       "                        21   11       3916\n",
       "                        22   10       7485\n",
       "                             11       3916\n",
       "                        23   10       7485\n",
       "                             11       3861\n",
       "                        24   11       3916\n",
       "                        25   10       7485\n",
       "                             11       3861\n",
       "                        26   10       7485\n",
       "                        27   10       7485\n",
       "                        28   10       7485\n",
       "                        29   10       7485\n",
       "                        30   10       7485\n",
       "                        31   10       7485\n",
       "Chennai    Delhi        1    11       7350\n",
       "                        2    11       6050\n",
       "                        16   11       6667\n",
       "                        17   11       2270\n",
       "                        18   11       2270\n",
       "                        23   10       7352\n",
       "                        24   10       7352\n",
       "                        25   10       7352\n",
       "                        26   10       7352\n",
       "                        27   10       7352\n",
       "                        28   10       7352\n",
       "                        29   10       7352\n",
       "                        30   10       7352\n",
       "                        31   10       7350\n",
       "New Delhi  Mumbai       18   10       5953\n",
       "                        19   10       5954\n",
       "                        20   10       5953\n",
       "                        21   10       5953\n",
       "bangalore  Delhi        17   10       5953\n",
       "Name: price, dtype: int64"
      ]
     },
     "execution_count": 41,
     "metadata": {},
     "output_type": "execute_result"
    }
   ],
   "source": [
    "df.groupby([\"Source\", \"Destination\",'Day','Month'])[\"price\"].min()"
   ]
  },
  {
   "cell_type": "markdown",
   "id": "f509e980",
   "metadata": {},
   "source": [
    "* Cheap airline fare for the days with source and destination "
   ]
  },
  {
   "cell_type": "code",
   "execution_count": 42,
   "id": "b7f1e28c",
   "metadata": {},
   "outputs": [
    {
     "data": {
      "text/plain": [
       "<AxesSubplot:xlabel='price', ylabel='Density'>"
      ]
     },
     "execution_count": 42,
     "metadata": {},
     "output_type": "execute_result"
    },
    {
     "data": {
      "image/png": "[encoded data removed]",
      "text/plain": [
       "<Figure size 432x288 with 1 Axes>"
      ]
     },
     "metadata": {
      "needs_background": "light"
     },
     "output_type": "display_data"
    }
   ],
   "source": [
    "sns.distplot(df[\"price\"])"
   ]
  },
  {
   "cell_type": "code",
   "execution_count": 43,
   "id": "c1ef068f",
   "metadata": {},
   "outputs": [
    {
     "data": {
      "text/plain": [
       "<matplotlib.collections.PathCollection at 0x1fb94104f10>"
      ]
     },
     "execution_count": 43,
     "metadata": {},
     "output_type": "execute_result"
    },
    {
     "data": {
      "image/png": "[encoded data removed]",
      "text/plain": [
       "<Figure size 432x288 with 1 Axes>"
      ]
     },
     "metadata": {
      "needs_background": "light"
     },
     "output_type": "display_data"
    }
   ],
   "source": [
    "plt.scatter(df['price'],df['Dur_hour'])"
   ]
  },
  {
   "cell_type": "code",
   "execution_count": 44,
   "id": "0b0d03cc",
   "metadata": {},
   "outputs": [
    {
     "data": {
      "text/plain": [
       "<matplotlib.collections.PathCollection at 0x1fb93fe64c0>"
      ]
     },
     "execution_count": 44,
     "metadata": {},
     "output_type": "execute_result"
    },
    {
     "data": {
      "image/png": "[encoded data removed]",
      "text/plain": [
       "<Figure size 432x288 with 1 Axes>"
      ]
     },
     "metadata": {
      "needs_background": "light"
     },
     "output_type": "display_data"
    }
   ],
   "source": [
    "plt.scatter(df['price'],df['Dur_min'])"
   ]
  },
  {
   "cell_type": "code",
   "execution_count": 45,
   "id": "92acd5dd",
   "metadata": {},
   "outputs": [
    {
     "data": {
      "text/plain": [
       "<matplotlib.collections.PathCollection at 0x1fb93ff22e0>"
      ]
     },
     "execution_count": 45,
     "metadata": {},
     "output_type": "execute_result"
    },
    {
     "data": {
      "image/png": "[encoded data removed]",
      "text/plain": [
       "<Figure size 432x288 with 1 Axes>"
      ]
     },
     "metadata": {
      "needs_background": "light"
     },
     "output_type": "display_data"
    }
   ],
   "source": [
    "plt.scatter(df['price'],df['Day'])"
   ]
  },
  {
   "cell_type": "markdown",
   "id": "365b9ccd",
   "metadata": {},
   "source": [
    "* Observation: We clearly see that price of the flight lies below 5000 Rupee's between 20 to 25 date"
   ]
  },
  {
   "cell_type": "code",
   "execution_count": 46,
   "id": "d1553f2f",
   "metadata": {},
   "outputs": [
    {
     "data": {
      "image/png": "[encoded data removed]",
      "text/plain": [
       "<Figure size 1296x432 with 1 Axes>"
      ]
     },
     "metadata": {
      "needs_background": "light"
     },
     "output_type": "display_data"
    }
   ],
   "source": [
    "sns.catplot(y = \"price\", x = \"Airline\", data = df.sort_values(\"price\", ascending = False), kind=\"boxen\", height = 6, aspect = 3)\n",
    "plt.show()"
   ]
  },
  {
   "cell_type": "markdown",
   "id": "718bcf36",
   "metadata": {},
   "source": [
    "* From graph we can see that Jet Airways Business have the highest Price.\n",
    "* Apart from the first Airline almost all are having similar median\n",
    "* Airline vs Price"
   ]
  },
  {
   "cell_type": "markdown",
   "id": "136b73d8",
   "metadata": {},
   "source": [
    "# Feature Selection"
   ]
  },
  {
   "cell_type": "markdown",
   "id": "511df11c",
   "metadata": {},
   "source": [
    "Finding out the best feature which will contribute and have good relation with target variable. Following are some of the feature selection methods,\n",
    "\n",
    "**heatmap**\n",
    "\n",
    "**feature_importance_**"
   ]
  },
  {
   "cell_type": "code",
   "execution_count": 47,
   "id": "5544867f",
   "metadata": {},
   "outputs": [
    {
     "data": {
      "image/png": "[encoded data removed]",
      "text/plain": [
       "<Figure size 720x720 with 2 Axes>"
      ]
     },
     "metadata": {
      "needs_background": "light"
     },
     "output_type": "display_data"
    }
   ],
   "source": [
    "corr_hmap=df.corr()\n",
    "plt.figure(figsize=(10,10))\n",
    "sns.heatmap(corr_hmap, annot=True)\n",
    "plt.show()"
   ]
  },
  {
   "cell_type": "markdown",
   "id": "1e6135be",
   "metadata": {},
   "source": [
    "* To check the corr_mat  Heatmap"
   ]
  },
  {
   "cell_type": "code",
   "execution_count": 48,
   "id": "ed287419",
   "metadata": {},
   "outputs": [
    {
     "data": {
      "text/plain": [
       "price       1.000000\n",
       "Arr_hour    0.148662\n",
       "Dep_min     0.064682\n",
       "Arr_min     0.020918\n",
       "Day        -0.012557\n",
       "Dur_min    -0.052974\n",
       "Dep_hour   -0.083973\n",
       "Month      -0.185633\n",
       "Name: price, dtype: float64"
      ]
     },
     "execution_count": 48,
     "metadata": {},
     "output_type": "execute_result"
    }
   ],
   "source": [
    "#to display the\n",
    "corr_matrix=df.corr()\n",
    "\n",
    "#please find the top 10 positive relation with dependet variable SALES PRICE \n",
    "corr_matrix['price'].sort_values(ascending = False)"
   ]
  },
  {
   "cell_type": "markdown",
   "id": "f64ea2d3",
   "metadata": {},
   "source": [
    "# Handeling the categorical values"
   ]
  },
  {
   "cell_type": "code",
   "execution_count": 49,
   "id": "0cbe6296",
   "metadata": {},
   "outputs": [
    {
     "data": {
      "text/html": [
       "<div>\n",
       "<style scoped>\n",
       "    .dataframe tbody tr th:only-of-type {\n",
       "        vertical-align: middle;\n",
       "    }\n",
       "\n",
       "    .dataframe tbody tr th {\n",
       "        vertical-align: top;\n",
       "    }\n",
       "\n",
       "    .dataframe thead th {\n",
       "        text-align: right;\n",
       "    }\n",
       "</style>\n",
       "<table border=\"1\" class=\"dataframe\">\n",
       "  <thead>\n",
       "    <tr style=\"text-align: right;\">\n",
       "      <th></th>\n",
       "      <th>Air Asia</th>\n",
       "      <th>Air India</th>\n",
       "      <th>AirAsia</th>\n",
       "      <th>GO FIRST</th>\n",
       "      <th>Go First</th>\n",
       "      <th>IndiGo</th>\n",
       "      <th>Indigo</th>\n",
       "      <th>SpiceJet</th>\n",
       "      <th>Vistara</th>\n",
       "    </tr>\n",
       "  </thead>\n",
       "  <tbody>\n",
       "    <tr>\n",
       "      <th>0</th>\n",
       "      <td>0</td>\n",
       "      <td>0</td>\n",
       "      <td>0</td>\n",
       "      <td>1</td>\n",
       "      <td>0</td>\n",
       "      <td>0</td>\n",
       "      <td>0</td>\n",
       "      <td>0</td>\n",
       "      <td>0</td>\n",
       "    </tr>\n",
       "    <tr>\n",
       "      <th>1</th>\n",
       "      <td>0</td>\n",
       "      <td>0</td>\n",
       "      <td>0</td>\n",
       "      <td>1</td>\n",
       "      <td>0</td>\n",
       "      <td>0</td>\n",
       "      <td>0</td>\n",
       "      <td>0</td>\n",
       "      <td>0</td>\n",
       "    </tr>\n",
       "    <tr>\n",
       "      <th>2</th>\n",
       "      <td>0</td>\n",
       "      <td>0</td>\n",
       "      <td>0</td>\n",
       "      <td>0</td>\n",
       "      <td>0</td>\n",
       "      <td>0</td>\n",
       "      <td>0</td>\n",
       "      <td>1</td>\n",
       "      <td>0</td>\n",
       "    </tr>\n",
       "    <tr>\n",
       "      <th>3</th>\n",
       "      <td>0</td>\n",
       "      <td>0</td>\n",
       "      <td>0</td>\n",
       "      <td>0</td>\n",
       "      <td>0</td>\n",
       "      <td>0</td>\n",
       "      <td>1</td>\n",
       "      <td>0</td>\n",
       "      <td>0</td>\n",
       "    </tr>\n",
       "    <tr>\n",
       "      <th>4</th>\n",
       "      <td>0</td>\n",
       "      <td>0</td>\n",
       "      <td>0</td>\n",
       "      <td>0</td>\n",
       "      <td>0</td>\n",
       "      <td>0</td>\n",
       "      <td>1</td>\n",
       "      <td>0</td>\n",
       "      <td>0</td>\n",
       "    </tr>\n",
       "  </tbody>\n",
       "</table>\n",
       "</div>"
      ],
      "text/plain": [
       "   Air Asia  Air India  AirAsia  GO FIRST  Go First  IndiGo  Indigo  SpiceJet  \\\n",
       "0         0          0        0         1         0       0       0         0   \n",
       "1         0          0        0         1         0       0       0         0   \n",
       "2         0          0        0         0         0       0       0         1   \n",
       "3         0          0        0         0         0       0       1         0   \n",
       "4         0          0        0         0         0       0       1         0   \n",
       "\n",
       "   Vistara  \n",
       "0        0  \n",
       "1        0  \n",
       "2        0  \n",
       "3        0  \n",
       "4        0  "
      ]
     },
     "execution_count": 49,
     "metadata": {},
     "output_type": "execute_result"
    }
   ],
   "source": [
    "Airline = pd.get_dummies(df['Airline'])\n",
    "Airline.head()"
   ]
  },
  {
   "cell_type": "code",
   "execution_count": 50,
   "id": "ba55de73",
   "metadata": {},
   "outputs": [
    {
     "data": {
      "text/html": [
       "<div>\n",
       "<style scoped>\n",
       "    .dataframe tbody tr th:only-of-type {\n",
       "        vertical-align: middle;\n",
       "    }\n",
       "\n",
       "    .dataframe tbody tr th {\n",
       "        vertical-align: top;\n",
       "    }\n",
       "\n",
       "    .dataframe thead th {\n",
       "        text-align: right;\n",
       "    }\n",
       "</style>\n",
       "<table border=\"1\" class=\"dataframe\">\n",
       "  <thead>\n",
       "    <tr style=\"text-align: right;\">\n",
       "      <th></th>\n",
       "      <th>Bangalore</th>\n",
       "      <th>Chennai</th>\n",
       "      <th>New Delhi</th>\n",
       "      <th>bangalore</th>\n",
       "    </tr>\n",
       "  </thead>\n",
       "  <tbody>\n",
       "    <tr>\n",
       "      <th>0</th>\n",
       "      <td>1</td>\n",
       "      <td>0</td>\n",
       "      <td>0</td>\n",
       "      <td>0</td>\n",
       "    </tr>\n",
       "    <tr>\n",
       "      <th>1</th>\n",
       "      <td>1</td>\n",
       "      <td>0</td>\n",
       "      <td>0</td>\n",
       "      <td>0</td>\n",
       "    </tr>\n",
       "    <tr>\n",
       "      <th>2</th>\n",
       "      <td>1</td>\n",
       "      <td>0</td>\n",
       "      <td>0</td>\n",
       "      <td>0</td>\n",
       "    </tr>\n",
       "    <tr>\n",
       "      <th>3</th>\n",
       "      <td>1</td>\n",
       "      <td>0</td>\n",
       "      <td>0</td>\n",
       "      <td>0</td>\n",
       "    </tr>\n",
       "    <tr>\n",
       "      <th>4</th>\n",
       "      <td>1</td>\n",
       "      <td>0</td>\n",
       "      <td>0</td>\n",
       "      <td>0</td>\n",
       "    </tr>\n",
       "  </tbody>\n",
       "</table>\n",
       "</div>"
      ],
      "text/plain": [
       "   Bangalore  Chennai  New Delhi  bangalore\n",
       "0          1        0          0          0\n",
       "1          1        0          0          0\n",
       "2          1        0          0          0\n",
       "3          1        0          0          0\n",
       "4          1        0          0          0"
      ]
     },
     "execution_count": 50,
     "metadata": {},
     "output_type": "execute_result"
    }
   ],
   "source": [
    "Source = pd.get_dummies(df[\"Source\"])\n",
    "Source.head()"
   ]
  },
  {
   "cell_type": "code",
   "execution_count": 51,
   "id": "d1a32b48",
   "metadata": {},
   "outputs": [
    {
     "data": {
      "text/html": [
       "<div>\n",
       "<style scoped>\n",
       "    .dataframe tbody tr th:only-of-type {\n",
       "        vertical-align: middle;\n",
       "    }\n",
       "\n",
       "    .dataframe tbody tr th {\n",
       "        vertical-align: top;\n",
       "    }\n",
       "\n",
       "    .dataframe thead th {\n",
       "        text-align: right;\n",
       "    }\n",
       "</style>\n",
       "<table border=\"1\" class=\"dataframe\">\n",
       "  <thead>\n",
       "    <tr style=\"text-align: right;\">\n",
       "      <th></th>\n",
       "      <th>Delhi</th>\n",
       "      <th>Mumbai</th>\n",
       "    </tr>\n",
       "  </thead>\n",
       "  <tbody>\n",
       "    <tr>\n",
       "      <th>0</th>\n",
       "      <td>1</td>\n",
       "      <td>0</td>\n",
       "    </tr>\n",
       "    <tr>\n",
       "      <th>1</th>\n",
       "      <td>1</td>\n",
       "      <td>0</td>\n",
       "    </tr>\n",
       "    <tr>\n",
       "      <th>2</th>\n",
       "      <td>1</td>\n",
       "      <td>0</td>\n",
       "    </tr>\n",
       "    <tr>\n",
       "      <th>3</th>\n",
       "      <td>1</td>\n",
       "      <td>0</td>\n",
       "    </tr>\n",
       "    <tr>\n",
       "      <th>4</th>\n",
       "      <td>1</td>\n",
       "      <td>0</td>\n",
       "    </tr>\n",
       "  </tbody>\n",
       "</table>\n",
       "</div>"
      ],
      "text/plain": [
       "   Delhi  Mumbai\n",
       "0      1       0\n",
       "1      1       0\n",
       "2      1       0\n",
       "3      1       0\n",
       "4      1       0"
      ]
     },
     "execution_count": 51,
     "metadata": {},
     "output_type": "execute_result"
    }
   ],
   "source": [
    "Destination = pd.get_dummies(df[\"Destination\"])\n",
    "Destination.head()"
   ]
  },
  {
   "cell_type": "code",
   "execution_count": 52,
   "id": "df32bd5b",
   "metadata": {},
   "outputs": [],
   "source": [
    "df.replace({\"non-stop\": 0, \"1-stop\": 1, \"2-stop\": 2,\"3-stop\":3}, inplace = True)\n",
    "df['stop']=pd.to_numeric(df['stop'])"
   ]
  },
  {
   "cell_type": "markdown",
   "id": "fdce4a93",
   "metadata": {},
   "source": [
    "* Replacing Stops"
   ]
  },
  {
   "cell_type": "code",
   "execution_count": 53,
   "id": "5eda1786",
   "metadata": {},
   "outputs": [],
   "source": [
    "df = pd.concat([df, Airline, Source, Destination], axis = 1)\n",
    "\n",
    "df.drop([\"Airline\", \"Source\", \"Destination\"], axis = 1, inplace = True)"
   ]
  },
  {
   "cell_type": "markdown",
   "id": "4d9e6255",
   "metadata": {},
   "source": [
    "* Concatenate dataframe --> df + Airline + Source + Destination"
   ]
  },
  {
   "cell_type": "code",
   "execution_count": 54,
   "id": "60bcc54b",
   "metadata": {},
   "outputs": [
    {
     "data": {
      "text/html": [
       "<div>\n",
       "<style scoped>\n",
       "    .dataframe tbody tr th:only-of-type {\n",
       "        vertical-align: middle;\n",
       "    }\n",
       "\n",
       "    .dataframe tbody tr th {\n",
       "        vertical-align: top;\n",
       "    }\n",
       "\n",
       "    .dataframe thead th {\n",
       "        text-align: right;\n",
       "    }\n",
       "</style>\n",
       "<table border=\"1\" class=\"dataframe\">\n",
       "  <thead>\n",
       "    <tr style=\"text-align: right;\">\n",
       "      <th></th>\n",
       "      <th>Day</th>\n",
       "      <th>Month</th>\n",
       "      <th>Route</th>\n",
       "      <th>Dep_hour</th>\n",
       "      <th>Dep_min</th>\n",
       "      <th>Dur_hour</th>\n",
       "      <th>Dur_min</th>\n",
       "      <th>Arr_hour</th>\n",
       "      <th>Arr_min</th>\n",
       "      <th>stop</th>\n",
       "      <th>...</th>\n",
       "      <th>IndiGo</th>\n",
       "      <th>Indigo</th>\n",
       "      <th>SpiceJet</th>\n",
       "      <th>Vistara</th>\n",
       "      <th>Bangalore</th>\n",
       "      <th>Chennai</th>\n",
       "      <th>New Delhi</th>\n",
       "      <th>bangalore</th>\n",
       "      <th>Delhi</th>\n",
       "      <th>Mumbai</th>\n",
       "    </tr>\n",
       "  </thead>\n",
       "  <tbody>\n",
       "    <tr>\n",
       "      <th>0</th>\n",
       "      <td>25</td>\n",
       "      <td>10</td>\n",
       "      <td>BLR---&gt;DEL</td>\n",
       "      <td>6</td>\n",
       "      <td>0</td>\n",
       "      <td>02</td>\n",
       "      <td>40</td>\n",
       "      <td>8</td>\n",
       "      <td>40</td>\n",
       "      <td>0</td>\n",
       "      <td>...</td>\n",
       "      <td>0</td>\n",
       "      <td>0</td>\n",
       "      <td>0</td>\n",
       "      <td>0</td>\n",
       "      <td>1</td>\n",
       "      <td>0</td>\n",
       "      <td>0</td>\n",
       "      <td>0</td>\n",
       "      <td>1</td>\n",
       "      <td>0</td>\n",
       "    </tr>\n",
       "    <tr>\n",
       "      <th>1</th>\n",
       "      <td>25</td>\n",
       "      <td>10</td>\n",
       "      <td>BLR---&gt;DEL</td>\n",
       "      <td>21</td>\n",
       "      <td>15</td>\n",
       "      <td>02</td>\n",
       "      <td>40</td>\n",
       "      <td>23</td>\n",
       "      <td>55</td>\n",
       "      <td>0</td>\n",
       "      <td>...</td>\n",
       "      <td>0</td>\n",
       "      <td>0</td>\n",
       "      <td>0</td>\n",
       "      <td>0</td>\n",
       "      <td>1</td>\n",
       "      <td>0</td>\n",
       "      <td>0</td>\n",
       "      <td>0</td>\n",
       "      <td>1</td>\n",
       "      <td>0</td>\n",
       "    </tr>\n",
       "    <tr>\n",
       "      <th>2</th>\n",
       "      <td>25</td>\n",
       "      <td>10</td>\n",
       "      <td>BLR---&gt;DEL</td>\n",
       "      <td>2</td>\n",
       "      <td>10</td>\n",
       "      <td>02</td>\n",
       "      <td>40</td>\n",
       "      <td>4</td>\n",
       "      <td>50</td>\n",
       "      <td>0</td>\n",
       "      <td>...</td>\n",
       "      <td>0</td>\n",
       "      <td>0</td>\n",
       "      <td>1</td>\n",
       "      <td>0</td>\n",
       "      <td>1</td>\n",
       "      <td>0</td>\n",
       "      <td>0</td>\n",
       "      <td>0</td>\n",
       "      <td>1</td>\n",
       "      <td>0</td>\n",
       "    </tr>\n",
       "    <tr>\n",
       "      <th>3</th>\n",
       "      <td>25</td>\n",
       "      <td>10</td>\n",
       "      <td>BLR---&gt;DEL</td>\n",
       "      <td>12</td>\n",
       "      <td>55</td>\n",
       "      <td>02</td>\n",
       "      <td>45</td>\n",
       "      <td>15</td>\n",
       "      <td>40</td>\n",
       "      <td>0</td>\n",
       "      <td>...</td>\n",
       "      <td>0</td>\n",
       "      <td>1</td>\n",
       "      <td>0</td>\n",
       "      <td>0</td>\n",
       "      <td>1</td>\n",
       "      <td>0</td>\n",
       "      <td>0</td>\n",
       "      <td>0</td>\n",
       "      <td>1</td>\n",
       "      <td>0</td>\n",
       "    </tr>\n",
       "    <tr>\n",
       "      <th>4</th>\n",
       "      <td>25</td>\n",
       "      <td>10</td>\n",
       "      <td>BLR---&gt;DEL</td>\n",
       "      <td>14</td>\n",
       "      <td>35</td>\n",
       "      <td>02</td>\n",
       "      <td>45</td>\n",
       "      <td>17</td>\n",
       "      <td>20</td>\n",
       "      <td>0</td>\n",
       "      <td>...</td>\n",
       "      <td>0</td>\n",
       "      <td>1</td>\n",
       "      <td>0</td>\n",
       "      <td>0</td>\n",
       "      <td>1</td>\n",
       "      <td>0</td>\n",
       "      <td>0</td>\n",
       "      <td>0</td>\n",
       "      <td>1</td>\n",
       "      <td>0</td>\n",
       "    </tr>\n",
       "  </tbody>\n",
       "</table>\n",
       "<p>5 rows × 26 columns</p>\n",
       "</div>"
      ],
      "text/plain": [
       "   Day  Month       Route  Dep_hour  Dep_min Dur_hour  Dur_min  Arr_hour  \\\n",
       "0   25     10  BLR--->DEL         6        0       02       40         8   \n",
       "1   25     10  BLR--->DEL        21       15       02       40        23   \n",
       "2   25     10  BLR--->DEL         2       10       02       40         4   \n",
       "3   25     10  BLR--->DEL        12       55       02       45        15   \n",
       "4   25     10  BLR--->DEL        14       35       02       45        17   \n",
       "\n",
       "   Arr_min  stop  ...  IndiGo  Indigo  SpiceJet  Vistara  Bangalore  Chennai  \\\n",
       "0       40     0  ...       0       0         0        0          1        0   \n",
       "1       55     0  ...       0       0         0        0          1        0   \n",
       "2       50     0  ...       0       0         1        0          1        0   \n",
       "3       40     0  ...       0       1         0        0          1        0   \n",
       "4       20     0  ...       0       1         0        0          1        0   \n",
       "\n",
       "   New Delhi  bangalore  Delhi  Mumbai  \n",
       "0          0          0      1       0  \n",
       "1          0          0      1       0  \n",
       "2          0          0      1       0  \n",
       "3          0          0      1       0  \n",
       "4          0          0      1       0  \n",
       "\n",
       "[5 rows x 26 columns]"
      ]
     },
     "execution_count": 54,
     "metadata": {},
     "output_type": "execute_result"
    }
   ],
   "source": [
    "df.head()"
   ]
  },
  {
   "cell_type": "markdown",
   "id": "896476ef",
   "metadata": {},
   "source": [
    "# Data Pre-processing"
   ]
  },
  {
   "cell_type": "code",
   "execution_count": 55,
   "id": "073b28cd",
   "metadata": {},
   "outputs": [
    {
     "data": {
      "text/plain": [
       "Index(['Day', 'Month', 'Route', 'Dep_hour', 'Dep_min', 'Dur_hour', 'Dur_min',\n",
       "       'Arr_hour', 'Arr_min', 'stop', 'price', 'Air Asia', 'Air India',\n",
       "       'AirAsia', 'GO FIRST', 'Go First', 'IndiGo', 'Indigo', 'SpiceJet',\n",
       "       'Vistara', 'Bangalore', 'Chennai', 'New Delhi', 'bangalore', 'Delhi',\n",
       "       'Mumbai'],\n",
       "      dtype='object')"
      ]
     },
     "execution_count": 55,
     "metadata": {},
     "output_type": "execute_result"
    }
   ],
   "source": [
    "df.columns"
   ]
  },
  {
   "cell_type": "code",
   "execution_count": 56,
   "id": "33a70d7f",
   "metadata": {},
   "outputs": [],
   "source": [
    "X = df.loc[:, ['Air Asia', 'Air India',\n",
    "       'AirAsia', 'GO FIRST', 'Go First', 'IndiGo', 'Indigo', 'SpiceJet',\n",
    "       'Vistara','Bangalore', 'Chennai', 'New Delhi', 'bangalore', 'Delhi',\n",
    "       'Mumbai', 'Day', 'Month', 'Dep_hour', 'Dep_min', 'Dur_hour', 'Dur_min',\n",
    "       'Arr_hour', 'Arr_min', 'stop'\n",
    "                                    ]]\n",
    "y = df['price']"
   ]
  },
  {
   "cell_type": "markdown",
   "id": "3ee227ea",
   "metadata": {},
   "source": [
    "* Spliting the data set X and y"
   ]
  },
  {
   "cell_type": "code",
   "execution_count": 57,
   "id": "30886fe1",
   "metadata": {},
   "outputs": [
    {
     "name": "stdout",
     "output_type": "stream",
     "text": [
      "   Air Asia  Air India  AirAsia  GO FIRST  Go First  IndiGo  Indigo  SpiceJet  \\\n",
      "0         0          0        0         1         0       0       0         0   \n",
      "1         0          0        0         1         0       0       0         0   \n",
      "2         0          0        0         0         0       0       0         1   \n",
      "3         0          0        0         0         0       0       1         0   \n",
      "4         0          0        0         0         0       0       1         0   \n",
      "\n",
      "   Vistara  Bangalore  ...  Mumbai  Day  Month  Dep_hour  Dep_min  Dur_hour  \\\n",
      "0        0          1  ...       0   25     10         6        0        02   \n",
      "1        0          1  ...       0   25     10        21       15        02   \n",
      "2        0          1  ...       0   25     10         2       10        02   \n",
      "3        0          1  ...       0   25     10        12       55        02   \n",
      "4        0          1  ...       0   25     10        14       35        02   \n",
      "\n",
      "   Dur_min  Arr_hour  Arr_min stop  \n",
      "0       40         8       40    0  \n",
      "1       40        23       55    0  \n",
      "2       40         4       50    0  \n",
      "3       45        15       40    0  \n",
      "4       45        17       20    0  \n",
      "\n",
      "[5 rows x 24 columns] 0    7487\n",
      "1    7487\n",
      "2    7488\n",
      "3    7488\n",
      "4    7488\n",
      "Name: price, dtype: int64\n"
     ]
    }
   ],
   "source": [
    "print(X.head(),y.head())"
   ]
  },
  {
   "cell_type": "code",
   "execution_count": 58,
   "id": "7f68a589",
   "metadata": {},
   "outputs": [
    {
     "data": {
      "image/png": "[encoded data removed]",
      "text/plain": [
       "<Figure size 432x288 with 1 Axes>"
      ]
     },
     "metadata": {
      "needs_background": "light"
     },
     "output_type": "display_data"
    }
   ],
   "source": [
    "sns.boxplot(df['price'])\n",
    "plt.show()"
   ]
  },
  {
   "cell_type": "markdown",
   "id": "06c561c2",
   "metadata": {},
   "source": [
    "* box plot "
   ]
  },
  {
   "cell_type": "code",
   "execution_count": 62,
   "id": "ac8d47ac",
   "metadata": {},
   "outputs": [
    {
     "data": {
      "text/plain": [
       "ExtraTreesRegressor()"
      ]
     },
     "execution_count": 62,
     "metadata": {},
     "output_type": "execute_result"
    }
   ],
   "source": [
    "from sklearn.ensemble import ExtraTreesRegressor\n",
    "selection = ExtraTreesRegressor()\n",
    "selection.fit(X, y)"
   ]
  },
  {
   "cell_type": "code",
   "execution_count": 60,
   "id": "bab2f1fd",
   "metadata": {},
   "outputs": [
    {
     "name": "stdout",
     "output_type": "stream",
     "text": [
      "[1.04785927e-03 4.30022339e-02 1.40458635e-02 1.06880066e-02\n",
      " 3.23932372e-03 4.85705824e-03 7.60823208e-03 4.97553379e-03\n",
      " 5.26584230e-02 1.28873804e-02 1.26299049e-02 1.67630211e-03\n",
      " 3.46642683e-04 2.01372269e-03 2.19767923e-03 3.61568553e-01\n",
      " 5.19985783e-02 6.11877284e-02 5.16178109e-02 5.49416651e-02\n",
      " 3.94736679e-02 6.30113366e-02 5.83374809e-02 8.39890128e-02]\n"
     ]
    }
   ],
   "source": [
    "print(selection.feature_importances_)"
   ]
  },
  {
   "cell_type": "code",
   "execution_count": 61,
   "id": "35375eb7",
   "metadata": {},
   "outputs": [
    {
     "data": {
      "image/png": "[encoded data removed]",
      "text/plain": [
       "<Figure size 864x576 with 1 Axes>"
      ]
     },
     "metadata": {
      "needs_background": "light"
     },
     "output_type": "display_data"
    }
   ],
   "source": [
    "\n",
    "plt.figure(figsize = (12,8))\n",
    "feat_importances = pd.Series(selection.feature_importances_, index=X.columns)\n",
    "feat_importances.nlargest(20).plot(kind='barh')\n",
    "plt.show()"
   ]
  },
  {
   "cell_type": "markdown",
   "id": "b82dc754",
   "metadata": {},
   "source": [
    "* spliting the data into train set and test set"
   ]
  },
  {
   "cell_type": "code",
   "execution_count": 63,
   "id": "c1e49ed4",
   "metadata": {},
   "outputs": [],
   "source": [
    "from sklearn.model_selection import train_test_split\n",
    "X_train, X_test, y_train, y_test = train_test_split(X, y, test_size = 0.2, random_state = 42)"
   ]
  },
  {
   "cell_type": "markdown",
   "id": "3d0c8552",
   "metadata": {},
   "source": [
    "# Model Building"
   ]
  },
  {
   "cell_type": "markdown",
   "id": "8074a8cc",
   "metadata": {},
   "source": [
    "Random forest model"
   ]
  },
  {
   "cell_type": "code",
   "execution_count": 64,
   "id": "19ce7a37",
   "metadata": {},
   "outputs": [],
   "source": [
    "from sklearn.ensemble import RandomForestRegressor\n",
    "Forest = RandomForestRegressor()\n",
    "Forest.fit(X_train, y_train)\n",
    "y_pred = Forest.predict(X_test)"
   ]
  },
  {
   "cell_type": "code",
   "execution_count": 65,
   "id": "5f5337ee",
   "metadata": {},
   "outputs": [
    {
     "data": {
      "text/plain": [
       "0.9553334609098121"
      ]
     },
     "execution_count": 65,
     "metadata": {},
     "output_type": "execute_result"
    }
   ],
   "source": [
    "Forest.score(X_train, y_train)"
   ]
  },
  {
   "cell_type": "markdown",
   "id": "66a60ef2",
   "metadata": {},
   "source": [
    "* model traing score"
   ]
  },
  {
   "cell_type": "code",
   "execution_count": 66,
   "id": "2c2fc975",
   "metadata": {},
   "outputs": [
    {
     "data": {
      "text/plain": [
       "0.7224797268061929"
      ]
     },
     "execution_count": 66,
     "metadata": {},
     "output_type": "execute_result"
    }
   ],
   "source": [
    "Forest.score(X_test, y_test)"
   ]
  },
  {
   "cell_type": "markdown",
   "id": "bb34c989",
   "metadata": {},
   "source": [
    "* test score"
   ]
  },
  {
   "cell_type": "code",
   "execution_count": 67,
   "id": "05ccc261",
   "metadata": {},
   "outputs": [
    {
     "data": {
      "text/plain": [
       "0.7224797268061929"
      ]
     },
     "execution_count": 67,
     "metadata": {},
     "output_type": "execute_result"
    }
   ],
   "source": [
    "Forest.score(X_test, y_test)"
   ]
  },
  {
   "cell_type": "code",
   "execution_count": 68,
   "id": "54dadb64",
   "metadata": {},
   "outputs": [
    {
     "data": {
      "image/png": "[encoded data removed]",
      "text/plain": [
       "<Figure size 432x288 with 1 Axes>"
      ]
     },
     "metadata": {
      "needs_background": "light"
     },
     "output_type": "display_data"
    }
   ],
   "source": [
    "sns.distplot(y_test-y_pred)\n",
    "plt.show()"
   ]
  },
  {
   "cell_type": "markdown",
   "id": "b0817b97",
   "metadata": {},
   "source": [
    "* y_test, and y_predicted plot"
   ]
  },
  {
   "cell_type": "code",
   "execution_count": 69,
   "id": "7c4c123a",
   "metadata": {},
   "outputs": [
    {
     "data": {
      "image/png": "[encoded data removed]",
      "text/plain": [
       "<Figure size 432x288 with 1 Axes>"
      ]
     },
     "metadata": {
      "needs_background": "light"
     },
     "output_type": "display_data"
    }
   ],
   "source": [
    "plt.scatter(y_test, y_pred, alpha = 0.5)\n",
    "plt.xlabel(\"y_test\")\n",
    "plt.ylabel(\"y_pred\")\n",
    "plt.show()"
   ]
  },
  {
   "cell_type": "code",
   "execution_count": 70,
   "id": "0f358ed7",
   "metadata": {},
   "outputs": [
    {
     "name": "stdout",
     "output_type": "stream",
     "text": [
      "MAE: 993.5827764069264\n",
      "MSE: 3773333.280059982\n",
      "RMSE: 1942.506957531937\n",
      "R2_score: 0.7224797268061929\n"
     ]
    }
   ],
   "source": [
    "from sklearn import metrics\n",
    "\n",
    "print('MAE:', metrics.mean_absolute_error(y_test, y_pred))\n",
    "print('MSE:', metrics.mean_squared_error(y_test, y_pred))\n",
    "print('RMSE:', np.sqrt(metrics.mean_squared_error(y_test, y_pred)))\n",
    "print('R2_score:',metrics.r2_score(y_test, y_pred))"
   ]
  },
  {
   "cell_type": "markdown",
   "id": "fc38281a",
   "metadata": {},
   "source": [
    "# logistic regressionModel"
   ]
  },
  {
   "cell_type": "code",
   "execution_count": 72,
   "id": "a26e93e4",
   "metadata": {},
   "outputs": [],
   "source": [
    "from sklearn.linear_model import LogisticRegression\n",
    "Logistic = LogisticRegression()\n",
    "Logistic.fit(X_train,y_train)\n",
    "l_prediction  =Logistic.predict(X_test)"
   ]
  },
  {
   "cell_type": "markdown",
   "id": "40738806",
   "metadata": {},
   "source": [
    "* logistic regressionModel"
   ]
  },
  {
   "cell_type": "code",
   "execution_count": 73,
   "id": "6a7a40a0",
   "metadata": {},
   "outputs": [
    {
     "data": {
      "text/plain": [
       "0.3354440655950641"
      ]
     },
     "execution_count": 73,
     "metadata": {},
     "output_type": "execute_result"
    }
   ],
   "source": [
    "Logistic.score(X_train,y_train)"
   ]
  },
  {
   "cell_type": "code",
   "execution_count": 74,
   "id": "a54683d9",
   "metadata": {},
   "outputs": [
    {
     "data": {
      "text/plain": [
       "0.31493506493506496"
      ]
     },
     "execution_count": 74,
     "metadata": {},
     "output_type": "execute_result"
    }
   ],
   "source": [
    "Logistic.score(X_test,y_test)"
   ]
  },
  {
   "cell_type": "code",
   "execution_count": 75,
   "id": "81fe4f3b",
   "metadata": {},
   "outputs": [
    {
     "name": "stdout",
     "output_type": "stream",
     "text": [
      "MAE: 2283.7512987012988\n",
      "MSE: 14446663.651298702\n",
      "RMSE: 3800.8766950926865\n",
      "R2_score: -0.0625199911267118\n"
     ]
    }
   ],
   "source": [
    "from sklearn import metrics\n",
    "\n",
    "print('MAE:', metrics.mean_absolute_error(y_test, l_prediction))\n",
    "print('MSE:', metrics.mean_squared_error(y_test, l_prediction))\n",
    "print('RMSE:', np.sqrt(metrics.mean_squared_error(y_test, l_prediction)))\n",
    "print('R2_score:',metrics.r2_score(y_test, l_prediction))"
   ]
  },
  {
   "cell_type": "markdown",
   "id": "8b7f6a0e",
   "metadata": {},
   "source": [
    "# Decision Tree regression model"
   ]
  },
  {
   "cell_type": "code",
   "execution_count": 76,
   "id": "bd1371cf",
   "metadata": {},
   "outputs": [],
   "source": [
    "from sklearn.tree import DecisionTreeRegressor\n",
    "DTR=DecisionTreeRegressor()\n",
    "DTR.fit(X_train,y_train)\n",
    "DTR_pred=DTR.predict(X_test)"
   ]
  },
  {
   "cell_type": "code",
   "execution_count": 77,
   "id": "228d39c3",
   "metadata": {},
   "outputs": [
    {
     "name": "stdout",
     "output_type": "stream",
     "text": [
      "MAE: 1107.648051948052\n",
      "MSE: 6095063.943506493\n",
      "RMSE: 2468.818329384828\n",
      "R2_score: 0.5517215985997513\n"
     ]
    }
   ],
   "source": [
    "from sklearn import metrics\n",
    "\n",
    "print('MAE:', metrics.mean_absolute_error(y_test, DTR_pred))\n",
    "print('MSE:', metrics.mean_squared_error(y_test, DTR_pred))\n",
    "print('RMSE:', np.sqrt(metrics.mean_squared_error(y_test, DTR_pred)))\n",
    "print('R2_score:',metrics.r2_score(y_test, DTR_pred))"
   ]
  },
  {
   "cell_type": "markdown",
   "id": "ef73f878",
   "metadata": {},
   "source": [
    "# Linear Regression model"
   ]
  },
  {
   "cell_type": "code",
   "execution_count": 78,
   "id": "2d2573f1",
   "metadata": {},
   "outputs": [],
   "source": [
    "from sklearn.linear_model import LinearRegression\n",
    "Regressor=LinearRegression()\n",
    "Regressor.fit(X_train,y_train)\n",
    "pred =Regressor.predict(X_test)"
   ]
  },
  {
   "cell_type": "code",
   "execution_count": 79,
   "id": "6e05bb03",
   "metadata": {},
   "outputs": [
    {
     "name": "stdout",
     "output_type": "stream",
     "text": [
      "MAE: 2244.6910277664074\n",
      "MSE: 9795682.81881801\n",
      "RMSE: 3129.805556071816\n",
      "R2_score: 0.27954930820342405\n"
     ]
    }
   ],
   "source": [
    "print('MAE:', metrics.mean_absolute_error(y_test, pred))\n",
    "print('MSE:', metrics.mean_squared_error(y_test, pred))\n",
    "print('RMSE:', np.sqrt(metrics.mean_squared_error(y_test, pred)))\n",
    "print('R2_score:',metrics.r2_score(y_test, pred))"
   ]
  },
  {
   "cell_type": "markdown",
   "id": "8dc6b5a8",
   "metadata": {},
   "source": [
    "# Hyperparameter Tuning"
   ]
  },
  {
   "cell_type": "raw",
   "id": "87ece173",
   "metadata": {},
   "source": [
    "Choose following method for hyperparameter tuning\n",
    "RandomizedSearchCV --> Fast\n",
    "GridSearchCV\n",
    "Assign hyperparameters in form of dictionery\n",
    "Fit the model\n",
    "Check best paramters and best score"
   ]
  },
  {
   "cell_type": "code",
   "execution_count": 80,
   "id": "b8674be1",
   "metadata": {},
   "outputs": [],
   "source": [
    "from sklearn.model_selection import RandomizedSearchCV\n",
    "\n",
    "# Number of trees in random forest\n",
    "n_estimators = [int(x) for x in np.linspace(start = 100, stop = 1200, num = 12)]\n",
    "# Number of features to consider at every split\n",
    "max_features = ['auto', 'sqrt']\n",
    "# Maximum number of levels in tree\n",
    "max_depth = [int(x) for x in np.linspace(5, 30, num = 6)]\n",
    "# Minimum number of samples required to split a node\n",
    "min_samples_split = [2, 5, 10, 15, 100]\n",
    "# Minimum number of samples required at each leaf node\n",
    "min_samples_leaf = [1, 2, 5, 10]"
   ]
  },
  {
   "cell_type": "code",
   "execution_count": 81,
   "id": "6fd1fc1b",
   "metadata": {},
   "outputs": [],
   "source": [
    "random_grid = {'n_estimators': n_estimators,\n",
    "               'max_features': max_features,\n",
    "               'max_depth': max_depth,\n",
    "               'min_samples_split': min_samples_split,\n",
    "               'min_samples_leaf': min_samples_leaf}"
   ]
  },
  {
   "cell_type": "markdown",
   "id": "6844403c",
   "metadata": {},
   "source": [
    "* Random search of parameters, using 5 fold cross validation, \n",
    "* search across 100 different combinations"
   ]
  },
  {
   "cell_type": "code",
   "execution_count": 83,
   "id": "317d2c5f",
   "metadata": {},
   "outputs": [],
   "source": [
    "rf_random = RandomizedSearchCV(estimator = Forest, param_distributions = random_grid,scoring='neg_mean_squared_error', n_iter = 10, cv = 5, verbose=2, random_state=42, n_jobs = 1)\n"
   ]
  },
  {
   "cell_type": "code",
   "execution_count": 84,
   "id": "c9bfc3c2",
   "metadata": {},
   "outputs": [
    {
     "data": {
      "text/plain": [
       "ExtraTreesRegressor()"
      ]
     },
     "execution_count": 84,
     "metadata": {},
     "output_type": "execute_result"
    }
   ],
   "source": [
    "# Important feature using ExtraTreesRegressor\n",
    "from sklearn.ensemble import ExtraTreesRegressor\n",
    "selection = ExtraTreesRegressor()\n",
    "selection.fit(X, y)"
   ]
  },
  {
   "cell_type": "code",
   "execution_count": 85,
   "id": "dda1df88",
   "metadata": {},
   "outputs": [],
   "source": [
    "from sklearn.model_selection import train_test_split\n",
    "X_train, X_test, y_train,y_test=train_test_split(X,y, train_size=0.8, test_size=0.2,random_state=42 )"
   ]
  },
  {
   "cell_type": "code",
   "execution_count": 86,
   "id": "b7a23d85",
   "metadata": {},
   "outputs": [
    {
     "name": "stdout",
     "output_type": "stream",
     "text": [
      "Fitting 5 folds for each of 10 candidates, totalling 50 fits\n",
      "[CV] END max_depth=10, max_features=sqrt, min_samples_leaf=5, min_samples_split=5, n_estimators=900; total time=   6.6s\n",
      "[CV] END max_depth=10, max_features=sqrt, min_samples_leaf=5, min_samples_split=5, n_estimators=900; total time=   6.0s\n",
      "[CV] END max_depth=10, max_features=sqrt, min_samples_leaf=5, min_samples_split=5, n_estimators=900; total time=   6.6s\n",
      "[CV] END max_depth=10, max_features=sqrt, min_samples_leaf=5, min_samples_split=5, n_estimators=900; total time=   6.3s\n",
      "[CV] END max_depth=10, max_features=sqrt, min_samples_leaf=5, min_samples_split=5, n_estimators=900; total time=   6.0s\n",
      "[CV] END max_depth=15, max_features=sqrt, min_samples_leaf=2, min_samples_split=10, n_estimators=1100; total time=   8.8s\n",
      "[CV] END max_depth=15, max_features=sqrt, min_samples_leaf=2, min_samples_split=10, n_estimators=1100; total time=   8.9s\n",
      "[CV] END max_depth=15, max_features=sqrt, min_samples_leaf=2, min_samples_split=10, n_estimators=1100; total time=   8.8s\n",
      "[CV] END max_depth=15, max_features=sqrt, min_samples_leaf=2, min_samples_split=10, n_estimators=1100; total time=   8.8s\n",
      "[CV] END max_depth=15, max_features=sqrt, min_samples_leaf=2, min_samples_split=10, n_estimators=1100; total time=   8.9s\n",
      "[CV] END max_depth=15, max_features=auto, min_samples_leaf=5, min_samples_split=100, n_estimators=300; total time=   5.3s\n",
      "[CV] END max_depth=15, max_features=auto, min_samples_leaf=5, min_samples_split=100, n_estimators=300; total time=   5.2s\n",
      "[CV] END max_depth=15, max_features=auto, min_samples_leaf=5, min_samples_split=100, n_estimators=300; total time=   5.4s\n",
      "[CV] END max_depth=15, max_features=auto, min_samples_leaf=5, min_samples_split=100, n_estimators=300; total time=   5.3s\n",
      "[CV] END max_depth=15, max_features=auto, min_samples_leaf=5, min_samples_split=100, n_estimators=300; total time=   5.4s\n",
      "[CV] END max_depth=15, max_features=auto, min_samples_leaf=5, min_samples_split=5, n_estimators=400; total time=   9.9s\n",
      "[CV] END max_depth=15, max_features=auto, min_samples_leaf=5, min_samples_split=5, n_estimators=400; total time=   9.9s\n",
      "[CV] END max_depth=15, max_features=auto, min_samples_leaf=5, min_samples_split=5, n_estimators=400; total time=   9.9s\n",
      "[CV] END max_depth=15, max_features=auto, min_samples_leaf=5, min_samples_split=5, n_estimators=400; total time=   9.9s\n",
      "[CV] END max_depth=15, max_features=auto, min_samples_leaf=5, min_samples_split=5, n_estimators=400; total time=   9.9s\n",
      "[CV] END max_depth=20, max_features=auto, min_samples_leaf=10, min_samples_split=5, n_estimators=700; total time=  15.5s\n",
      "[CV] END max_depth=20, max_features=auto, min_samples_leaf=10, min_samples_split=5, n_estimators=700; total time=  15.4s\n",
      "[CV] END max_depth=20, max_features=auto, min_samples_leaf=10, min_samples_split=5, n_estimators=700; total time=  15.4s\n",
      "[CV] END max_depth=20, max_features=auto, min_samples_leaf=10, min_samples_split=5, n_estimators=700; total time=  15.5s\n",
      "[CV] END max_depth=20, max_features=auto, min_samples_leaf=10, min_samples_split=5, n_estimators=700; total time=  15.4s\n",
      "[CV] END max_depth=25, max_features=sqrt, min_samples_leaf=1, min_samples_split=2, n_estimators=1000; total time=  12.8s\n",
      "[CV] END max_depth=25, max_features=sqrt, min_samples_leaf=1, min_samples_split=2, n_estimators=1000; total time=  12.6s\n",
      "[CV] END max_depth=25, max_features=sqrt, min_samples_leaf=1, min_samples_split=2, n_estimators=1000; total time=  12.6s\n",
      "[CV] END max_depth=25, max_features=sqrt, min_samples_leaf=1, min_samples_split=2, n_estimators=1000; total time=  12.6s\n",
      "[CV] END max_depth=25, max_features=sqrt, min_samples_leaf=1, min_samples_split=2, n_estimators=1000; total time=  12.6s\n",
      "[CV] END max_depth=5, max_features=sqrt, min_samples_leaf=10, min_samples_split=15, n_estimators=1100; total time=   5.1s\n",
      "[CV] END max_depth=5, max_features=sqrt, min_samples_leaf=10, min_samples_split=15, n_estimators=1100; total time=   5.1s\n",
      "[CV] END max_depth=5, max_features=sqrt, min_samples_leaf=10, min_samples_split=15, n_estimators=1100; total time=   5.0s\n",
      "[CV] END max_depth=5, max_features=sqrt, min_samples_leaf=10, min_samples_split=15, n_estimators=1100; total time=   5.6s\n",
      "[CV] END max_depth=5, max_features=sqrt, min_samples_leaf=10, min_samples_split=15, n_estimators=1100; total time=   6.6s\n",
      "[CV] END max_depth=15, max_features=sqrt, min_samples_leaf=1, min_samples_split=15, n_estimators=300; total time=   2.3s\n",
      "[CV] END max_depth=15, max_features=sqrt, min_samples_leaf=1, min_samples_split=15, n_estimators=300; total time=   2.3s\n",
      "[CV] END max_depth=15, max_features=sqrt, min_samples_leaf=1, min_samples_split=15, n_estimators=300; total time=   2.3s\n",
      "[CV] END max_depth=15, max_features=sqrt, min_samples_leaf=1, min_samples_split=15, n_estimators=300; total time=   2.3s\n",
      "[CV] END max_depth=15, max_features=sqrt, min_samples_leaf=1, min_samples_split=15, n_estimators=300; total time=   2.3s\n",
      "[CV] END max_depth=5, max_features=sqrt, min_samples_leaf=2, min_samples_split=10, n_estimators=700; total time=   3.2s\n",
      "[CV] END max_depth=5, max_features=sqrt, min_samples_leaf=2, min_samples_split=10, n_estimators=700; total time=   3.2s\n",
      "[CV] END max_depth=5, max_features=sqrt, min_samples_leaf=2, min_samples_split=10, n_estimators=700; total time=   3.3s\n",
      "[CV] END max_depth=5, max_features=sqrt, min_samples_leaf=2, min_samples_split=10, n_estimators=700; total time=   3.4s\n",
      "[CV] END max_depth=5, max_features=sqrt, min_samples_leaf=2, min_samples_split=10, n_estimators=700; total time=   3.4s\n",
      "[CV] END max_depth=20, max_features=auto, min_samples_leaf=1, min_samples_split=15, n_estimators=700; total time=  18.0s\n",
      "[CV] END max_depth=20, max_features=auto, min_samples_leaf=1, min_samples_split=15, n_estimators=700; total time=  18.9s\n",
      "[CV] END max_depth=20, max_features=auto, min_samples_leaf=1, min_samples_split=15, n_estimators=700; total time=  18.0s\n",
      "[CV] END max_depth=20, max_features=auto, min_samples_leaf=1, min_samples_split=15, n_estimators=700; total time=  17.9s\n",
      "[CV] END max_depth=20, max_features=auto, min_samples_leaf=1, min_samples_split=15, n_estimators=700; total time=  17.8s\n"
     ]
    },
    {
     "data": {
      "text/plain": [
       "RandomizedSearchCV(cv=5, estimator=RandomForestRegressor(), n_jobs=1,\n",
       "                   param_distributions={'max_depth': [5, 10, 15, 20, 25, 30],\n",
       "                                        'max_features': ['auto', 'sqrt'],\n",
       "                                        'min_samples_leaf': [1, 2, 5, 10],\n",
       "                                        'min_samples_split': [2, 5, 10, 15,\n",
       "                                                              100],\n",
       "                                        'n_estimators': [100, 200, 300, 400,\n",
       "                                                         500, 600, 700, 800,\n",
       "                                                         900, 1000, 1100,\n",
       "                                                         1200]},\n",
       "                   random_state=42, scoring='neg_mean_squared_error',\n",
       "                   verbose=2)"
      ]
     },
     "execution_count": 86,
     "metadata": {},
     "output_type": "execute_result"
    }
   ],
   "source": [
    "rf_random.fit(X_train,y_train)"
   ]
  },
  {
   "cell_type": "code",
   "execution_count": 87,
   "id": "72192a7f",
   "metadata": {},
   "outputs": [
    {
     "data": {
      "text/plain": [
       "{'n_estimators': 1000,\n",
       " 'min_samples_split': 2,\n",
       " 'min_samples_leaf': 1,\n",
       " 'max_features': 'sqrt',\n",
       " 'max_depth': 25}"
      ]
     },
     "execution_count": 87,
     "metadata": {},
     "output_type": "execute_result"
    }
   ],
   "source": [
    "rf_random.best_params_"
   ]
  },
  {
   "cell_type": "code",
   "execution_count": 88,
   "id": "3075ea89",
   "metadata": {},
   "outputs": [],
   "source": [
    "prediction = rf_random.predict(X_test)"
   ]
  },
  {
   "cell_type": "code",
   "execution_count": 89,
   "id": "91cc75c2",
   "metadata": {},
   "outputs": [
    {
     "data": {
      "image/png": "[encoded data removed]",
      "text/plain": [
       "<Figure size 576x576 with 1 Axes>"
      ]
     },
     "metadata": {
      "needs_background": "light"
     },
     "output_type": "display_data"
    }
   ],
   "source": [
    "plt.figure(figsize = (8,8))\n",
    "sns.distplot(y_test-prediction)\n",
    "plt.show()"
   ]
  },
  {
   "cell_type": "code",
   "execution_count": 90,
   "id": "77d6b6a3",
   "metadata": {},
   "outputs": [
    {
     "data": {
      "image/png": "[encoded data removed]",
      "text/plain": [
       "<Figure size 576x576 with 1 Axes>"
      ]
     },
     "metadata": {
      "needs_background": "light"
     },
     "output_type": "display_data"
    }
   ],
   "source": [
    "plt.figure(figsize = (8,8))\n",
    "plt.scatter(y_test, prediction, alpha = 0.5)\n",
    "plt.xlabel(\"y_test\")\n",
    "plt.ylabel(\"y_pred\")\n",
    "plt.show()"
   ]
  },
  {
   "cell_type": "code",
   "execution_count": 91,
   "id": "8e17358e",
   "metadata": {},
   "outputs": [
    {
     "name": "stdout",
     "output_type": "stream",
     "text": [
      "MAE: 1042.4716470770654\n",
      "MSE: 4007915.9443247174\n",
      "RMSE: 2001.9780079523146\n"
     ]
    }
   ],
   "source": [
    "print('MAE:', metrics.mean_absolute_error(y_test, prediction))\n",
    "print('MSE:', metrics.mean_squared_error(y_test, prediction))\n",
    "print('RMSE:', np.sqrt(metrics.mean_squared_error(y_test, prediction)))"
   ]
  },
  {
   "cell_type": "code",
   "execution_count": 92,
   "id": "02771860",
   "metadata": {},
   "outputs": [
    {
     "data": {
      "text/plain": [
       "0.7052266934159789"
      ]
     },
     "execution_count": 92,
     "metadata": {},
     "output_type": "execute_result"
    }
   ],
   "source": [
    "y_prediction = rf_random.predict(X_test)\n",
    "metrics.r2_score(y_test, y_prediction)"
   ]
  },
  {
   "cell_type": "markdown",
   "id": "5c9cb6d1",
   "metadata": {},
   "source": [
    "# Saving the model"
   ]
  },
  {
   "cell_type": "code",
   "execution_count": 93,
   "id": "427e5f8a",
   "metadata": {},
   "outputs": [],
   "source": [
    "import pickle\n",
    "# open a file, where you ant to store the data\n",
    "file = open('Forest.pkl', 'wb')\n",
    "\n",
    "# dump information to that file\n",
    "pickle.dump(Forest, file)"
   ]
  },
  {
   "cell_type": "code",
   "execution_count": 94,
   "id": "624be8e8",
   "metadata": {},
   "outputs": [],
   "source": [
    "model = open('Forest.pkl','rb')\n",
    "forest = pickle.load(model)"
   ]
  },
  {
   "cell_type": "code",
   "execution_count": null,
   "id": "f9b59fc8",
   "metadata": {},
   "outputs": [],
   "source": []
  }
 ],
 "metadata": {
  "kernelspec": {
   "display_name": "Python 3",
   "language": "python",
   "name": "python3"
  },
  "language_info": {
   "codemirror_mode": {
    "name": "ipython",
    "version": 3
   },
   "file_extension": ".py",
   "mimetype": "text/x-python",
   "name": "python",
   "nbconvert_exporter": "python",
   "pygments_lexer": "ipython3",
   "version": "3.8.8"
  }
 },
 "nbformat": 4,
 "nbformat_minor": 5
}
